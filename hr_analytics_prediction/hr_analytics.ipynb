{
 "cells": [
  {
   "cell_type": "markdown",
   "metadata": {},
   "source": [
    "# HR Analytics Prediction: Why do People Resign?\n",
    "\n",
    "Source: https://www.kaggle.com/code/paramarthasengupta/hr-analytics-prediction-why-do-people-resign/notebook"
   ]
  },
  {
   "cell_type": "markdown",
   "metadata": {},
   "source": [
    "## Import packages and file"
   ]
  },
  {
   "cell_type": "code",
   "execution_count": 3,
   "metadata": {},
   "outputs": [],
   "source": [
    "# Import packages\n",
    "import numpy as np\n",
    "import pandas as pd\n",
    "import matplotlib.pyplot as plt\n",
    "import seaborn as sns\n",
    "import plotly.express as px"
   ]
  },
  {
   "cell_type": "code",
   "execution_count": 4,
   "metadata": {},
   "outputs": [
    {
     "data": {
      "text/html": [
       "<div>\n",
       "<style scoped>\n",
       "    .dataframe tbody tr th:only-of-type {\n",
       "        vertical-align: middle;\n",
       "    }\n",
       "\n",
       "    .dataframe tbody tr th {\n",
       "        vertical-align: top;\n",
       "    }\n",
       "\n",
       "    .dataframe thead th {\n",
       "        text-align: right;\n",
       "    }\n",
       "</style>\n",
       "<table border=\"1\" class=\"dataframe\">\n",
       "  <thead>\n",
       "    <tr style=\"text-align: right;\">\n",
       "      <th></th>\n",
       "      <th>Age</th>\n",
       "      <th>Attrition</th>\n",
       "      <th>BusinessTravel</th>\n",
       "      <th>DailyRate</th>\n",
       "      <th>Department</th>\n",
       "      <th>DistanceFromHome</th>\n",
       "      <th>Education</th>\n",
       "      <th>EducationField</th>\n",
       "      <th>EmployeeCount</th>\n",
       "      <th>EmployeeNumber</th>\n",
       "      <th>...</th>\n",
       "      <th>RelationshipSatisfaction</th>\n",
       "      <th>StandardHours</th>\n",
       "      <th>StockOptionLevel</th>\n",
       "      <th>TotalWorkingYears</th>\n",
       "      <th>TrainingTimesLastYear</th>\n",
       "      <th>WorkLifeBalance</th>\n",
       "      <th>YearsAtCompany</th>\n",
       "      <th>YearsInCurrentRole</th>\n",
       "      <th>YearsSinceLastPromotion</th>\n",
       "      <th>YearsWithCurrManager</th>\n",
       "    </tr>\n",
       "  </thead>\n",
       "  <tbody>\n",
       "    <tr>\n",
       "      <th>0</th>\n",
       "      <td>41</td>\n",
       "      <td>Yes</td>\n",
       "      <td>Travel_Rarely</td>\n",
       "      <td>1102</td>\n",
       "      <td>Sales</td>\n",
       "      <td>1</td>\n",
       "      <td>2</td>\n",
       "      <td>Life Sciences</td>\n",
       "      <td>1</td>\n",
       "      <td>1</td>\n",
       "      <td>...</td>\n",
       "      <td>1</td>\n",
       "      <td>80</td>\n",
       "      <td>0</td>\n",
       "      <td>8</td>\n",
       "      <td>0</td>\n",
       "      <td>1</td>\n",
       "      <td>6</td>\n",
       "      <td>4</td>\n",
       "      <td>0</td>\n",
       "      <td>5</td>\n",
       "    </tr>\n",
       "    <tr>\n",
       "      <th>1</th>\n",
       "      <td>49</td>\n",
       "      <td>No</td>\n",
       "      <td>Travel_Frequently</td>\n",
       "      <td>279</td>\n",
       "      <td>Research &amp; Development</td>\n",
       "      <td>8</td>\n",
       "      <td>1</td>\n",
       "      <td>Life Sciences</td>\n",
       "      <td>1</td>\n",
       "      <td>2</td>\n",
       "      <td>...</td>\n",
       "      <td>4</td>\n",
       "      <td>80</td>\n",
       "      <td>1</td>\n",
       "      <td>10</td>\n",
       "      <td>3</td>\n",
       "      <td>3</td>\n",
       "      <td>10</td>\n",
       "      <td>7</td>\n",
       "      <td>1</td>\n",
       "      <td>7</td>\n",
       "    </tr>\n",
       "    <tr>\n",
       "      <th>2</th>\n",
       "      <td>37</td>\n",
       "      <td>Yes</td>\n",
       "      <td>Travel_Rarely</td>\n",
       "      <td>1373</td>\n",
       "      <td>Research &amp; Development</td>\n",
       "      <td>2</td>\n",
       "      <td>2</td>\n",
       "      <td>Other</td>\n",
       "      <td>1</td>\n",
       "      <td>4</td>\n",
       "      <td>...</td>\n",
       "      <td>2</td>\n",
       "      <td>80</td>\n",
       "      <td>0</td>\n",
       "      <td>7</td>\n",
       "      <td>3</td>\n",
       "      <td>3</td>\n",
       "      <td>0</td>\n",
       "      <td>0</td>\n",
       "      <td>0</td>\n",
       "      <td>0</td>\n",
       "    </tr>\n",
       "    <tr>\n",
       "      <th>3</th>\n",
       "      <td>33</td>\n",
       "      <td>No</td>\n",
       "      <td>Travel_Frequently</td>\n",
       "      <td>1392</td>\n",
       "      <td>Research &amp; Development</td>\n",
       "      <td>3</td>\n",
       "      <td>4</td>\n",
       "      <td>Life Sciences</td>\n",
       "      <td>1</td>\n",
       "      <td>5</td>\n",
       "      <td>...</td>\n",
       "      <td>3</td>\n",
       "      <td>80</td>\n",
       "      <td>0</td>\n",
       "      <td>8</td>\n",
       "      <td>3</td>\n",
       "      <td>3</td>\n",
       "      <td>8</td>\n",
       "      <td>7</td>\n",
       "      <td>3</td>\n",
       "      <td>0</td>\n",
       "    </tr>\n",
       "    <tr>\n",
       "      <th>4</th>\n",
       "      <td>27</td>\n",
       "      <td>No</td>\n",
       "      <td>Travel_Rarely</td>\n",
       "      <td>591</td>\n",
       "      <td>Research &amp; Development</td>\n",
       "      <td>2</td>\n",
       "      <td>1</td>\n",
       "      <td>Medical</td>\n",
       "      <td>1</td>\n",
       "      <td>7</td>\n",
       "      <td>...</td>\n",
       "      <td>4</td>\n",
       "      <td>80</td>\n",
       "      <td>1</td>\n",
       "      <td>6</td>\n",
       "      <td>3</td>\n",
       "      <td>3</td>\n",
       "      <td>2</td>\n",
       "      <td>2</td>\n",
       "      <td>2</td>\n",
       "      <td>2</td>\n",
       "    </tr>\n",
       "  </tbody>\n",
       "</table>\n",
       "<p>5 rows × 35 columns</p>\n",
       "</div>"
      ],
      "text/plain": [
       "   Age Attrition     BusinessTravel  DailyRate              Department  \\\n",
       "0   41       Yes      Travel_Rarely       1102                   Sales   \n",
       "1   49        No  Travel_Frequently        279  Research & Development   \n",
       "2   37       Yes      Travel_Rarely       1373  Research & Development   \n",
       "3   33        No  Travel_Frequently       1392  Research & Development   \n",
       "4   27        No      Travel_Rarely        591  Research & Development   \n",
       "\n",
       "   DistanceFromHome  Education EducationField  EmployeeCount  EmployeeNumber  \\\n",
       "0                 1          2  Life Sciences              1               1   \n",
       "1                 8          1  Life Sciences              1               2   \n",
       "2                 2          2          Other              1               4   \n",
       "3                 3          4  Life Sciences              1               5   \n",
       "4                 2          1        Medical              1               7   \n",
       "\n",
       "   ...  RelationshipSatisfaction StandardHours  StockOptionLevel  \\\n",
       "0  ...                         1            80                 0   \n",
       "1  ...                         4            80                 1   \n",
       "2  ...                         2            80                 0   \n",
       "3  ...                         3            80                 0   \n",
       "4  ...                         4            80                 1   \n",
       "\n",
       "   TotalWorkingYears  TrainingTimesLastYear WorkLifeBalance  YearsAtCompany  \\\n",
       "0                  8                      0               1               6   \n",
       "1                 10                      3               3              10   \n",
       "2                  7                      3               3               0   \n",
       "3                  8                      3               3               8   \n",
       "4                  6                      3               3               2   \n",
       "\n",
       "  YearsInCurrentRole  YearsSinceLastPromotion  YearsWithCurrManager  \n",
       "0                  4                        0                     5  \n",
       "1                  7                        1                     7  \n",
       "2                  0                        0                     0  \n",
       "3                  7                        3                     0  \n",
       "4                  2                        2                     2  \n",
       "\n",
       "[5 rows x 35 columns]"
      ]
     },
     "execution_count": 4,
     "metadata": {},
     "output_type": "execute_result"
    }
   ],
   "source": [
    "#Read file\n",
    "df = pd.read_csv('employee_attrition.csv')\n",
    "df.head(5)"
   ]
  },
  {
   "cell_type": "code",
   "execution_count": 5,
   "metadata": {},
   "outputs": [
    {
     "data": {
      "text/plain": [
       "Index(['Age', 'Attrition', 'BusinessTravel', 'DailyRate', 'Department',\n",
       "       'DistanceFromHome', 'Education', 'EducationField', 'EmployeeCount',\n",
       "       'EmployeeNumber', 'EnvironmentSatisfaction', 'Gender', 'HourlyRate',\n",
       "       'JobInvolvement', 'JobLevel', 'JobRole', 'JobSatisfaction',\n",
       "       'MaritalStatus', 'MonthlyIncome', 'MonthlyRate', 'NumCompaniesWorked',\n",
       "       'Over18', 'OverTime', 'PercentSalaryHike', 'PerformanceRating',\n",
       "       'RelationshipSatisfaction', 'StandardHours', 'StockOptionLevel',\n",
       "       'TotalWorkingYears', 'TrainingTimesLastYear', 'WorkLifeBalance',\n",
       "       'YearsAtCompany', 'YearsInCurrentRole', 'YearsSinceLastPromotion',\n",
       "       'YearsWithCurrManager'],\n",
       "      dtype='object')"
      ]
     },
     "execution_count": 5,
     "metadata": {},
     "output_type": "execute_result"
    }
   ],
   "source": [
    "df.columns"
   ]
  },
  {
   "cell_type": "markdown",
   "metadata": {},
   "source": [
    " ## Data preparation"
   ]
  },
  {
   "cell_type": "code",
   "execution_count": 6,
   "metadata": {},
   "outputs": [],
   "source": [
    "df.columns = [col.lower() for col in df.columns]\n",
    "df = df.rename(columns={'businesstravel':'travel',\n",
    "                        'distancefromhome':'distance_from_home',\n",
    "                        'educationfield':'field', \n",
    "                        'employeecount':'employee_count',\n",
    "                        'employeenumber': 'employee_number',\n",
    "                        'environmentsatisfaction':'env_satisfaction',\n",
    "                        'hourlyrate':'hourly_rate',\n",
    "                        'jobinvolvement':'job_involvement',\n",
    "                        'joblevel':'job_level',\n",
    "                        'jobrole':'job_role',\n",
    "                        'jobsatisfaction':'job_satisfaction',\n",
    "                        'maritalstatus':'marital_status',\n",
    "                        'monthlyincome':'monthly_income',\n",
    "                        'monthlyrate':'monthly_rate',\n",
    "                        'numcompaniesworked':'num_companies_worked',\n",
    "                        'over18':'over_18',\n",
    "                        'percentsalaryhike':'percent_salary_hike',\n",
    "                        'performancerating':'performance_rating',\n",
    "                        'relationshipsatisfaction':'relationship_satisfaction',\n",
    "                        'standardhours':'standard_hours',\n",
    "                        'stockoptionlevel':'stock_option_level',\n",
    "                        'totalworkingyears':'working_years',\n",
    "                        'trainingtimeslastyear':'training_last_year',\n",
    "                        'worklifebalance':'work_life_balance',\n",
    "                        'yearsatcompany': 'years_at_company',\n",
    "                        'yearsincurrentrole' :'years_in_current_role',\n",
    "                        'yearssincelastpromotion':'years_since_promotion',\n",
    "                        'yearswithcurrmanager':'years_with_current_manager'})"
   ]
  },
  {
   "cell_type": "code",
   "execution_count": 7,
   "metadata": {},
   "outputs": [
    {
     "name": "stdout",
     "output_type": "stream",
     "text": [
      "<class 'pandas.core.frame.DataFrame'>\n",
      "RangeIndex: 1470 entries, 0 to 1469\n",
      "Data columns (total 35 columns):\n",
      " #   Column                      Non-Null Count  Dtype \n",
      "---  ------                      --------------  ----- \n",
      " 0   age                         1470 non-null   int64 \n",
      " 1   attrition                   1470 non-null   object\n",
      " 2   travel                      1470 non-null   object\n",
      " 3   dailyrate                   1470 non-null   int64 \n",
      " 4   department                  1470 non-null   object\n",
      " 5   distance_from_home          1470 non-null   int64 \n",
      " 6   education                   1470 non-null   int64 \n",
      " 7   field                       1470 non-null   object\n",
      " 8   employee_count              1470 non-null   int64 \n",
      " 9   employee_number             1470 non-null   int64 \n",
      " 10  env_satisfaction            1470 non-null   int64 \n",
      " 11  gender                      1470 non-null   object\n",
      " 12  hourly_rate                 1470 non-null   int64 \n",
      " 13  job_involvement             1470 non-null   int64 \n",
      " 14  job_level                   1470 non-null   int64 \n",
      " 15  job_role                    1470 non-null   object\n",
      " 16  job_satisfaction            1470 non-null   int64 \n",
      " 17  marital_status              1470 non-null   object\n",
      " 18  monthly_income              1470 non-null   int64 \n",
      " 19  monthly_rate                1470 non-null   int64 \n",
      " 20  num_companies_worked        1470 non-null   int64 \n",
      " 21  over_18                     1470 non-null   object\n",
      " 22  overtime                    1470 non-null   object\n",
      " 23  percent_salary_hike         1470 non-null   int64 \n",
      " 24  performance_rating          1470 non-null   int64 \n",
      " 25  relationship_satisfaction   1470 non-null   int64 \n",
      " 26  standard_hours              1470 non-null   int64 \n",
      " 27  stock_option_level          1470 non-null   int64 \n",
      " 28  working_years               1470 non-null   int64 \n",
      " 29  training_last_year          1470 non-null   int64 \n",
      " 30  work_life_balance           1470 non-null   int64 \n",
      " 31  years_at_company            1470 non-null   int64 \n",
      " 32  years_in_current_role       1470 non-null   int64 \n",
      " 33  years_since_promotion       1470 non-null   int64 \n",
      " 34  years_with_current_manager  1470 non-null   int64 \n",
      "dtypes: int64(26), object(9)\n",
      "memory usage: 402.1+ KB\n"
     ]
    }
   ],
   "source": [
    "df.info()"
   ]
  },
  {
   "cell_type": "code",
   "execution_count": 8,
   "metadata": {},
   "outputs": [
    {
     "data": {
      "text/plain": [
       "(1470, 35)"
      ]
     },
     "execution_count": 8,
     "metadata": {},
     "output_type": "execute_result"
    }
   ],
   "source": [
    "df.shape"
   ]
  },
  {
   "cell_type": "code",
   "execution_count": 9,
   "metadata": {},
   "outputs": [
    {
     "data": {
      "text/html": [
       "<div>\n",
       "<style scoped>\n",
       "    .dataframe tbody tr th:only-of-type {\n",
       "        vertical-align: middle;\n",
       "    }\n",
       "\n",
       "    .dataframe tbody tr th {\n",
       "        vertical-align: top;\n",
       "    }\n",
       "\n",
       "    .dataframe thead th {\n",
       "        text-align: right;\n",
       "    }\n",
       "</style>\n",
       "<table border=\"1\" class=\"dataframe\">\n",
       "  <thead>\n",
       "    <tr style=\"text-align: right;\">\n",
       "      <th></th>\n",
       "      <th>age</th>\n",
       "      <th>dailyrate</th>\n",
       "      <th>distance_from_home</th>\n",
       "      <th>education</th>\n",
       "      <th>employee_count</th>\n",
       "      <th>employee_number</th>\n",
       "      <th>env_satisfaction</th>\n",
       "      <th>hourly_rate</th>\n",
       "      <th>job_involvement</th>\n",
       "      <th>job_level</th>\n",
       "      <th>...</th>\n",
       "      <th>relationship_satisfaction</th>\n",
       "      <th>standard_hours</th>\n",
       "      <th>stock_option_level</th>\n",
       "      <th>working_years</th>\n",
       "      <th>training_last_year</th>\n",
       "      <th>work_life_balance</th>\n",
       "      <th>years_at_company</th>\n",
       "      <th>years_in_current_role</th>\n",
       "      <th>years_since_promotion</th>\n",
       "      <th>years_with_current_manager</th>\n",
       "    </tr>\n",
       "  </thead>\n",
       "  <tbody>\n",
       "    <tr>\n",
       "      <th>count</th>\n",
       "      <td>1470.000000</td>\n",
       "      <td>1470.000000</td>\n",
       "      <td>1470.000000</td>\n",
       "      <td>1470.000000</td>\n",
       "      <td>1470.0</td>\n",
       "      <td>1470.000000</td>\n",
       "      <td>1470.000000</td>\n",
       "      <td>1470.000000</td>\n",
       "      <td>1470.000000</td>\n",
       "      <td>1470.000000</td>\n",
       "      <td>...</td>\n",
       "      <td>1470.000000</td>\n",
       "      <td>1470.0</td>\n",
       "      <td>1470.000000</td>\n",
       "      <td>1470.000000</td>\n",
       "      <td>1470.000000</td>\n",
       "      <td>1470.000000</td>\n",
       "      <td>1470.000000</td>\n",
       "      <td>1470.000000</td>\n",
       "      <td>1470.000000</td>\n",
       "      <td>1470.000000</td>\n",
       "    </tr>\n",
       "    <tr>\n",
       "      <th>mean</th>\n",
       "      <td>36.923810</td>\n",
       "      <td>802.485714</td>\n",
       "      <td>9.192517</td>\n",
       "      <td>2.912925</td>\n",
       "      <td>1.0</td>\n",
       "      <td>1024.865306</td>\n",
       "      <td>2.721769</td>\n",
       "      <td>65.891156</td>\n",
       "      <td>2.729932</td>\n",
       "      <td>2.063946</td>\n",
       "      <td>...</td>\n",
       "      <td>2.712245</td>\n",
       "      <td>80.0</td>\n",
       "      <td>0.793878</td>\n",
       "      <td>11.279592</td>\n",
       "      <td>2.799320</td>\n",
       "      <td>2.761224</td>\n",
       "      <td>7.008163</td>\n",
       "      <td>4.229252</td>\n",
       "      <td>2.187755</td>\n",
       "      <td>4.123129</td>\n",
       "    </tr>\n",
       "    <tr>\n",
       "      <th>std</th>\n",
       "      <td>9.135373</td>\n",
       "      <td>403.509100</td>\n",
       "      <td>8.106864</td>\n",
       "      <td>1.024165</td>\n",
       "      <td>0.0</td>\n",
       "      <td>602.024335</td>\n",
       "      <td>1.093082</td>\n",
       "      <td>20.329428</td>\n",
       "      <td>0.711561</td>\n",
       "      <td>1.106940</td>\n",
       "      <td>...</td>\n",
       "      <td>1.081209</td>\n",
       "      <td>0.0</td>\n",
       "      <td>0.852077</td>\n",
       "      <td>7.780782</td>\n",
       "      <td>1.289271</td>\n",
       "      <td>0.706476</td>\n",
       "      <td>6.126525</td>\n",
       "      <td>3.623137</td>\n",
       "      <td>3.222430</td>\n",
       "      <td>3.568136</td>\n",
       "    </tr>\n",
       "    <tr>\n",
       "      <th>min</th>\n",
       "      <td>18.000000</td>\n",
       "      <td>102.000000</td>\n",
       "      <td>1.000000</td>\n",
       "      <td>1.000000</td>\n",
       "      <td>1.0</td>\n",
       "      <td>1.000000</td>\n",
       "      <td>1.000000</td>\n",
       "      <td>30.000000</td>\n",
       "      <td>1.000000</td>\n",
       "      <td>1.000000</td>\n",
       "      <td>...</td>\n",
       "      <td>1.000000</td>\n",
       "      <td>80.0</td>\n",
       "      <td>0.000000</td>\n",
       "      <td>0.000000</td>\n",
       "      <td>0.000000</td>\n",
       "      <td>1.000000</td>\n",
       "      <td>0.000000</td>\n",
       "      <td>0.000000</td>\n",
       "      <td>0.000000</td>\n",
       "      <td>0.000000</td>\n",
       "    </tr>\n",
       "    <tr>\n",
       "      <th>25%</th>\n",
       "      <td>30.000000</td>\n",
       "      <td>465.000000</td>\n",
       "      <td>2.000000</td>\n",
       "      <td>2.000000</td>\n",
       "      <td>1.0</td>\n",
       "      <td>491.250000</td>\n",
       "      <td>2.000000</td>\n",
       "      <td>48.000000</td>\n",
       "      <td>2.000000</td>\n",
       "      <td>1.000000</td>\n",
       "      <td>...</td>\n",
       "      <td>2.000000</td>\n",
       "      <td>80.0</td>\n",
       "      <td>0.000000</td>\n",
       "      <td>6.000000</td>\n",
       "      <td>2.000000</td>\n",
       "      <td>2.000000</td>\n",
       "      <td>3.000000</td>\n",
       "      <td>2.000000</td>\n",
       "      <td>0.000000</td>\n",
       "      <td>2.000000</td>\n",
       "    </tr>\n",
       "    <tr>\n",
       "      <th>50%</th>\n",
       "      <td>36.000000</td>\n",
       "      <td>802.000000</td>\n",
       "      <td>7.000000</td>\n",
       "      <td>3.000000</td>\n",
       "      <td>1.0</td>\n",
       "      <td>1020.500000</td>\n",
       "      <td>3.000000</td>\n",
       "      <td>66.000000</td>\n",
       "      <td>3.000000</td>\n",
       "      <td>2.000000</td>\n",
       "      <td>...</td>\n",
       "      <td>3.000000</td>\n",
       "      <td>80.0</td>\n",
       "      <td>1.000000</td>\n",
       "      <td>10.000000</td>\n",
       "      <td>3.000000</td>\n",
       "      <td>3.000000</td>\n",
       "      <td>5.000000</td>\n",
       "      <td>3.000000</td>\n",
       "      <td>1.000000</td>\n",
       "      <td>3.000000</td>\n",
       "    </tr>\n",
       "    <tr>\n",
       "      <th>75%</th>\n",
       "      <td>43.000000</td>\n",
       "      <td>1157.000000</td>\n",
       "      <td>14.000000</td>\n",
       "      <td>4.000000</td>\n",
       "      <td>1.0</td>\n",
       "      <td>1555.750000</td>\n",
       "      <td>4.000000</td>\n",
       "      <td>83.750000</td>\n",
       "      <td>3.000000</td>\n",
       "      <td>3.000000</td>\n",
       "      <td>...</td>\n",
       "      <td>4.000000</td>\n",
       "      <td>80.0</td>\n",
       "      <td>1.000000</td>\n",
       "      <td>15.000000</td>\n",
       "      <td>3.000000</td>\n",
       "      <td>3.000000</td>\n",
       "      <td>9.000000</td>\n",
       "      <td>7.000000</td>\n",
       "      <td>3.000000</td>\n",
       "      <td>7.000000</td>\n",
       "    </tr>\n",
       "    <tr>\n",
       "      <th>max</th>\n",
       "      <td>60.000000</td>\n",
       "      <td>1499.000000</td>\n",
       "      <td>29.000000</td>\n",
       "      <td>5.000000</td>\n",
       "      <td>1.0</td>\n",
       "      <td>2068.000000</td>\n",
       "      <td>4.000000</td>\n",
       "      <td>100.000000</td>\n",
       "      <td>4.000000</td>\n",
       "      <td>5.000000</td>\n",
       "      <td>...</td>\n",
       "      <td>4.000000</td>\n",
       "      <td>80.0</td>\n",
       "      <td>3.000000</td>\n",
       "      <td>40.000000</td>\n",
       "      <td>6.000000</td>\n",
       "      <td>4.000000</td>\n",
       "      <td>40.000000</td>\n",
       "      <td>18.000000</td>\n",
       "      <td>15.000000</td>\n",
       "      <td>17.000000</td>\n",
       "    </tr>\n",
       "  </tbody>\n",
       "</table>\n",
       "<p>8 rows × 26 columns</p>\n",
       "</div>"
      ],
      "text/plain": [
       "               age    dailyrate  distance_from_home    education  \\\n",
       "count  1470.000000  1470.000000         1470.000000  1470.000000   \n",
       "mean     36.923810   802.485714            9.192517     2.912925   \n",
       "std       9.135373   403.509100            8.106864     1.024165   \n",
       "min      18.000000   102.000000            1.000000     1.000000   \n",
       "25%      30.000000   465.000000            2.000000     2.000000   \n",
       "50%      36.000000   802.000000            7.000000     3.000000   \n",
       "75%      43.000000  1157.000000           14.000000     4.000000   \n",
       "max      60.000000  1499.000000           29.000000     5.000000   \n",
       "\n",
       "       employee_count  employee_number  env_satisfaction  hourly_rate  \\\n",
       "count          1470.0      1470.000000       1470.000000  1470.000000   \n",
       "mean              1.0      1024.865306          2.721769    65.891156   \n",
       "std               0.0       602.024335          1.093082    20.329428   \n",
       "min               1.0         1.000000          1.000000    30.000000   \n",
       "25%               1.0       491.250000          2.000000    48.000000   \n",
       "50%               1.0      1020.500000          3.000000    66.000000   \n",
       "75%               1.0      1555.750000          4.000000    83.750000   \n",
       "max               1.0      2068.000000          4.000000   100.000000   \n",
       "\n",
       "       job_involvement    job_level  ...  relationship_satisfaction  \\\n",
       "count      1470.000000  1470.000000  ...                1470.000000   \n",
       "mean          2.729932     2.063946  ...                   2.712245   \n",
       "std           0.711561     1.106940  ...                   1.081209   \n",
       "min           1.000000     1.000000  ...                   1.000000   \n",
       "25%           2.000000     1.000000  ...                   2.000000   \n",
       "50%           3.000000     2.000000  ...                   3.000000   \n",
       "75%           3.000000     3.000000  ...                   4.000000   \n",
       "max           4.000000     5.000000  ...                   4.000000   \n",
       "\n",
       "       standard_hours  stock_option_level  working_years  training_last_year  \\\n",
       "count          1470.0         1470.000000    1470.000000         1470.000000   \n",
       "mean             80.0            0.793878      11.279592            2.799320   \n",
       "std               0.0            0.852077       7.780782            1.289271   \n",
       "min              80.0            0.000000       0.000000            0.000000   \n",
       "25%              80.0            0.000000       6.000000            2.000000   \n",
       "50%              80.0            1.000000      10.000000            3.000000   \n",
       "75%              80.0            1.000000      15.000000            3.000000   \n",
       "max              80.0            3.000000      40.000000            6.000000   \n",
       "\n",
       "       work_life_balance  years_at_company  years_in_current_role  \\\n",
       "count        1470.000000       1470.000000            1470.000000   \n",
       "mean            2.761224          7.008163               4.229252   \n",
       "std             0.706476          6.126525               3.623137   \n",
       "min             1.000000          0.000000               0.000000   \n",
       "25%             2.000000          3.000000               2.000000   \n",
       "50%             3.000000          5.000000               3.000000   \n",
       "75%             3.000000          9.000000               7.000000   \n",
       "max             4.000000         40.000000              18.000000   \n",
       "\n",
       "       years_since_promotion  years_with_current_manager  \n",
       "count            1470.000000                 1470.000000  \n",
       "mean                2.187755                    4.123129  \n",
       "std                 3.222430                    3.568136  \n",
       "min                 0.000000                    0.000000  \n",
       "25%                 0.000000                    2.000000  \n",
       "50%                 1.000000                    3.000000  \n",
       "75%                 3.000000                    7.000000  \n",
       "max                15.000000                   17.000000  \n",
       "\n",
       "[8 rows x 26 columns]"
      ]
     },
     "execution_count": 9,
     "metadata": {},
     "output_type": "execute_result"
    }
   ],
   "source": [
    "df.describe()"
   ]
  },
  {
   "cell_type": "code",
   "execution_count": 10,
   "metadata": {},
   "outputs": [
    {
     "data": {
      "text/plain": [
       "count     1470\n",
       "unique       1\n",
       "top          Y\n",
       "freq      1470\n",
       "Name: over_18, dtype: object"
      ]
     },
     "execution_count": 10,
     "metadata": {},
     "output_type": "execute_result"
    }
   ],
   "source": [
    "df['over_18'].describe()"
   ]
  },
  {
   "cell_type": "markdown",
   "metadata": {},
   "source": [
    "### Dataset info\n",
    "\n",
    "* age: Minimum age is 18, mean of 37 and maximum of 60\n",
    "* env_satisfaction: mean of 2.7 with a maximum of 4. (What was the scale?)\n",
    "* standard_hours: All employees are working 80 hours \n",
    "* working_years: mean 11,2 working years, maximum of 40. 7.7 standard deviation, possible outiers increasing the mean\n",
    "* years_at_company: mean of 7, but standard deviation of 6. 9 in 3rd percentile, 40 in the 4th. Outliers towards the end\n",
    "* years_in_current_role: mean of 4 years in the current role, but 3.6 of stanradr deviation. The 2nd percentile is 3 years\n"
   ]
  },
  {
   "cell_type": "markdown",
   "metadata": {},
   "source": [
    "## EDA"
   ]
  },
  {
   "cell_type": "markdown",
   "metadata": {},
   "source": [
    "1. Attrition Analysis\n",
    "Attrition Rate by Age: Group employees by age and calculate the attrition rate. This will help you understand if certain age groups are more likely to leave.\n",
    "Attrition by Department: Analyze attrition rates across different departments to identify which departments have higher turnover rates.\n",
    "Attrition by Job Role: Investigate which job roles have the highest attrition rates to identify potentially problematic positions.\n",
    "Attrition by Distance From Home: Assess if employees living further away from the office are more likely to leave.\n",
    "2. Job Satisfaction and Attrition\n",
    "Job Satisfaction vs. Attrition: Analyze how job satisfaction (from the JobSatisfaction column) correlates with attrition. Low satisfaction scores might be a predictor of attrition.\n",
    "Environment Satisfaction vs. Attrition: Similarly, see if EnvironmentSatisfaction affects attrition rates.\n",
    "3. Salary and Attrition\n",
    "Monthly Income vs. Attrition: Determine if there’s a relationship between an employee’s income and their likelihood to leave.\n",
    "Salary Hike vs. Attrition: Analyze whether employees who received higher salary hikes (PercentSalaryHike) are less likely to leave.\n",
    "4. Work-Life Balance Analysis\n",
    "Work-Life Balance vs. Attrition: Explore whether employees with poor work-life balance scores (WorkLifeBalance) are more likely to leave.\n",
    "OverTime vs. Attrition: Investigate if employees working overtime (OverTime) are more prone to attrition, possibly due to burnout.\n",
    "5. Performance and Attrition\n",
    "Performance Rating vs. Attrition: Analyze the relationship between performance ratings and attrition to see if high or low performers are more likely to leave.\n",
    "Years at Company vs. Performance: Investigate whether longer-tenured employees (YearsAtCompany) tend to have better performance ratings.\n",
    "6. Career Progression\n",
    "Promotion History vs. Attrition: See if the time since the last promotion (YearsSinceLastPromotion) affects the likelihood of an employee leaving.\n",
    "Years in Current Role vs. Attrition: Analyze if employees who have been in the same role for a long time are more likely to leave.\n",
    "7. Training and Development\n",
    "Training Times vs. Attrition: Assess whether the number of training sessions attended (TrainingTimesLastYear) correlates with attrition. Lack of development opportunities could be a factor in attrition.\n",
    "8. Demographic Analysis\n",
    "Gender and Attrition: Compare attrition rates between genders to see if there are any significant differences.\n",
    "Marital Status and Attrition: Explore if marital status affects attrition rates, which could be linked to work-life balance.\n",
    "9. Employee Engagement\n",
    "Job Involvement vs. Attrition: Analyze if employees with lower job involvement scores are more likely to leave.\n",
    "Relationship Satisfaction vs. Attrition: Determine if poor relationships at work correlate with higher attrition.\n",
    "10. Comprehensive Predictive Modeling\n",
    "Attrition Prediction: Use all relevant columns to build a predictive model (e.g., using logistic regression, decision trees, or machine learning algorithms) to predict which employees are most likely to leave. This model can help HR departments proactively address potential attrition."
   ]
  },
  {
   "cell_type": "code",
   "execution_count": 11,
   "metadata": {},
   "outputs": [
    {
     "data": {
      "text/plain": [
       "(237, 35)"
      ]
     },
     "execution_count": 11,
     "metadata": {},
     "output_type": "execute_result"
    }
   ],
   "source": [
    "# how many people left?\n",
    "\n",
    "out = df[df['attrition'] == 'Yes'] \n",
    "out.shape"
   ]
  },
  {
   "cell_type": "code",
   "execution_count": 12,
   "metadata": {},
   "outputs": [
    {
     "data": {
      "text/html": [
       "<div>\n",
       "<style scoped>\n",
       "    .dataframe tbody tr th:only-of-type {\n",
       "        vertical-align: middle;\n",
       "    }\n",
       "\n",
       "    .dataframe tbody tr th {\n",
       "        vertical-align: top;\n",
       "    }\n",
       "\n",
       "    .dataframe thead th {\n",
       "        text-align: right;\n",
       "    }\n",
       "</style>\n",
       "<table border=\"1\" class=\"dataframe\">\n",
       "  <thead>\n",
       "    <tr style=\"text-align: right;\">\n",
       "      <th></th>\n",
       "      <th>age</th>\n",
       "      <th>attrition</th>\n",
       "      <th>travel</th>\n",
       "      <th>dailyrate</th>\n",
       "      <th>department</th>\n",
       "      <th>distance_from_home</th>\n",
       "      <th>education</th>\n",
       "      <th>field</th>\n",
       "      <th>employee_count</th>\n",
       "      <th>employee_number</th>\n",
       "      <th>...</th>\n",
       "      <th>relationship_satisfaction</th>\n",
       "      <th>standard_hours</th>\n",
       "      <th>stock_option_level</th>\n",
       "      <th>working_years</th>\n",
       "      <th>training_last_year</th>\n",
       "      <th>work_life_balance</th>\n",
       "      <th>years_at_company</th>\n",
       "      <th>years_in_current_role</th>\n",
       "      <th>years_since_promotion</th>\n",
       "      <th>years_with_current_manager</th>\n",
       "    </tr>\n",
       "  </thead>\n",
       "  <tbody>\n",
       "    <tr>\n",
       "      <th>0</th>\n",
       "      <td>41</td>\n",
       "      <td>Yes</td>\n",
       "      <td>Travel_Rarely</td>\n",
       "      <td>1102</td>\n",
       "      <td>Sales</td>\n",
       "      <td>1</td>\n",
       "      <td>2</td>\n",
       "      <td>Life Sciences</td>\n",
       "      <td>1</td>\n",
       "      <td>1</td>\n",
       "      <td>...</td>\n",
       "      <td>1</td>\n",
       "      <td>80</td>\n",
       "      <td>0</td>\n",
       "      <td>8</td>\n",
       "      <td>0</td>\n",
       "      <td>1</td>\n",
       "      <td>6</td>\n",
       "      <td>4</td>\n",
       "      <td>0</td>\n",
       "      <td>5</td>\n",
       "    </tr>\n",
       "    <tr>\n",
       "      <th>2</th>\n",
       "      <td>37</td>\n",
       "      <td>Yes</td>\n",
       "      <td>Travel_Rarely</td>\n",
       "      <td>1373</td>\n",
       "      <td>Research &amp; Development</td>\n",
       "      <td>2</td>\n",
       "      <td>2</td>\n",
       "      <td>Other</td>\n",
       "      <td>1</td>\n",
       "      <td>4</td>\n",
       "      <td>...</td>\n",
       "      <td>2</td>\n",
       "      <td>80</td>\n",
       "      <td>0</td>\n",
       "      <td>7</td>\n",
       "      <td>3</td>\n",
       "      <td>3</td>\n",
       "      <td>0</td>\n",
       "      <td>0</td>\n",
       "      <td>0</td>\n",
       "      <td>0</td>\n",
       "    </tr>\n",
       "    <tr>\n",
       "      <th>14</th>\n",
       "      <td>28</td>\n",
       "      <td>Yes</td>\n",
       "      <td>Travel_Rarely</td>\n",
       "      <td>103</td>\n",
       "      <td>Research &amp; Development</td>\n",
       "      <td>24</td>\n",
       "      <td>3</td>\n",
       "      <td>Life Sciences</td>\n",
       "      <td>1</td>\n",
       "      <td>19</td>\n",
       "      <td>...</td>\n",
       "      <td>2</td>\n",
       "      <td>80</td>\n",
       "      <td>0</td>\n",
       "      <td>6</td>\n",
       "      <td>4</td>\n",
       "      <td>3</td>\n",
       "      <td>4</td>\n",
       "      <td>2</td>\n",
       "      <td>0</td>\n",
       "      <td>3</td>\n",
       "    </tr>\n",
       "    <tr>\n",
       "      <th>21</th>\n",
       "      <td>36</td>\n",
       "      <td>Yes</td>\n",
       "      <td>Travel_Rarely</td>\n",
       "      <td>1218</td>\n",
       "      <td>Sales</td>\n",
       "      <td>9</td>\n",
       "      <td>4</td>\n",
       "      <td>Life Sciences</td>\n",
       "      <td>1</td>\n",
       "      <td>27</td>\n",
       "      <td>...</td>\n",
       "      <td>2</td>\n",
       "      <td>80</td>\n",
       "      <td>0</td>\n",
       "      <td>10</td>\n",
       "      <td>4</td>\n",
       "      <td>3</td>\n",
       "      <td>5</td>\n",
       "      <td>3</td>\n",
       "      <td>0</td>\n",
       "      <td>3</td>\n",
       "    </tr>\n",
       "    <tr>\n",
       "      <th>24</th>\n",
       "      <td>34</td>\n",
       "      <td>Yes</td>\n",
       "      <td>Travel_Rarely</td>\n",
       "      <td>699</td>\n",
       "      <td>Research &amp; Development</td>\n",
       "      <td>6</td>\n",
       "      <td>1</td>\n",
       "      <td>Medical</td>\n",
       "      <td>1</td>\n",
       "      <td>31</td>\n",
       "      <td>...</td>\n",
       "      <td>3</td>\n",
       "      <td>80</td>\n",
       "      <td>0</td>\n",
       "      <td>8</td>\n",
       "      <td>2</td>\n",
       "      <td>3</td>\n",
       "      <td>4</td>\n",
       "      <td>2</td>\n",
       "      <td>1</td>\n",
       "      <td>3</td>\n",
       "    </tr>\n",
       "    <tr>\n",
       "      <th>...</th>\n",
       "      <td>...</td>\n",
       "      <td>...</td>\n",
       "      <td>...</td>\n",
       "      <td>...</td>\n",
       "      <td>...</td>\n",
       "      <td>...</td>\n",
       "      <td>...</td>\n",
       "      <td>...</td>\n",
       "      <td>...</td>\n",
       "      <td>...</td>\n",
       "      <td>...</td>\n",
       "      <td>...</td>\n",
       "      <td>...</td>\n",
       "      <td>...</td>\n",
       "      <td>...</td>\n",
       "      <td>...</td>\n",
       "      <td>...</td>\n",
       "      <td>...</td>\n",
       "      <td>...</td>\n",
       "      <td>...</td>\n",
       "      <td>...</td>\n",
       "    </tr>\n",
       "    <tr>\n",
       "      <th>1438</th>\n",
       "      <td>23</td>\n",
       "      <td>Yes</td>\n",
       "      <td>Travel_Frequently</td>\n",
       "      <td>638</td>\n",
       "      <td>Sales</td>\n",
       "      <td>9</td>\n",
       "      <td>3</td>\n",
       "      <td>Marketing</td>\n",
       "      <td>1</td>\n",
       "      <td>2023</td>\n",
       "      <td>...</td>\n",
       "      <td>1</td>\n",
       "      <td>80</td>\n",
       "      <td>1</td>\n",
       "      <td>1</td>\n",
       "      <td>3</td>\n",
       "      <td>2</td>\n",
       "      <td>1</td>\n",
       "      <td>0</td>\n",
       "      <td>1</td>\n",
       "      <td>0</td>\n",
       "    </tr>\n",
       "    <tr>\n",
       "      <th>1442</th>\n",
       "      <td>29</td>\n",
       "      <td>Yes</td>\n",
       "      <td>Travel_Rarely</td>\n",
       "      <td>1092</td>\n",
       "      <td>Research &amp; Development</td>\n",
       "      <td>1</td>\n",
       "      <td>4</td>\n",
       "      <td>Medical</td>\n",
       "      <td>1</td>\n",
       "      <td>2027</td>\n",
       "      <td>...</td>\n",
       "      <td>2</td>\n",
       "      <td>80</td>\n",
       "      <td>3</td>\n",
       "      <td>4</td>\n",
       "      <td>3</td>\n",
       "      <td>4</td>\n",
       "      <td>2</td>\n",
       "      <td>2</td>\n",
       "      <td>2</td>\n",
       "      <td>2</td>\n",
       "    </tr>\n",
       "    <tr>\n",
       "      <th>1444</th>\n",
       "      <td>56</td>\n",
       "      <td>Yes</td>\n",
       "      <td>Travel_Rarely</td>\n",
       "      <td>310</td>\n",
       "      <td>Research &amp; Development</td>\n",
       "      <td>7</td>\n",
       "      <td>2</td>\n",
       "      <td>Technical Degree</td>\n",
       "      <td>1</td>\n",
       "      <td>2032</td>\n",
       "      <td>...</td>\n",
       "      <td>4</td>\n",
       "      <td>80</td>\n",
       "      <td>1</td>\n",
       "      <td>14</td>\n",
       "      <td>4</td>\n",
       "      <td>1</td>\n",
       "      <td>10</td>\n",
       "      <td>9</td>\n",
       "      <td>9</td>\n",
       "      <td>8</td>\n",
       "    </tr>\n",
       "    <tr>\n",
       "      <th>1452</th>\n",
       "      <td>50</td>\n",
       "      <td>Yes</td>\n",
       "      <td>Travel_Frequently</td>\n",
       "      <td>878</td>\n",
       "      <td>Sales</td>\n",
       "      <td>1</td>\n",
       "      <td>4</td>\n",
       "      <td>Life Sciences</td>\n",
       "      <td>1</td>\n",
       "      <td>2044</td>\n",
       "      <td>...</td>\n",
       "      <td>4</td>\n",
       "      <td>80</td>\n",
       "      <td>2</td>\n",
       "      <td>12</td>\n",
       "      <td>3</td>\n",
       "      <td>3</td>\n",
       "      <td>6</td>\n",
       "      <td>3</td>\n",
       "      <td>0</td>\n",
       "      <td>1</td>\n",
       "    </tr>\n",
       "    <tr>\n",
       "      <th>1461</th>\n",
       "      <td>50</td>\n",
       "      <td>Yes</td>\n",
       "      <td>Travel_Rarely</td>\n",
       "      <td>410</td>\n",
       "      <td>Sales</td>\n",
       "      <td>28</td>\n",
       "      <td>3</td>\n",
       "      <td>Marketing</td>\n",
       "      <td>1</td>\n",
       "      <td>2055</td>\n",
       "      <td>...</td>\n",
       "      <td>2</td>\n",
       "      <td>80</td>\n",
       "      <td>1</td>\n",
       "      <td>20</td>\n",
       "      <td>3</td>\n",
       "      <td>3</td>\n",
       "      <td>3</td>\n",
       "      <td>2</td>\n",
       "      <td>2</td>\n",
       "      <td>0</td>\n",
       "    </tr>\n",
       "  </tbody>\n",
       "</table>\n",
       "<p>237 rows × 35 columns</p>\n",
       "</div>"
      ],
      "text/plain": [
       "      age attrition             travel  dailyrate              department  \\\n",
       "0      41       Yes      Travel_Rarely       1102                   Sales   \n",
       "2      37       Yes      Travel_Rarely       1373  Research & Development   \n",
       "14     28       Yes      Travel_Rarely        103  Research & Development   \n",
       "21     36       Yes      Travel_Rarely       1218                   Sales   \n",
       "24     34       Yes      Travel_Rarely        699  Research & Development   \n",
       "...   ...       ...                ...        ...                     ...   \n",
       "1438   23       Yes  Travel_Frequently        638                   Sales   \n",
       "1442   29       Yes      Travel_Rarely       1092  Research & Development   \n",
       "1444   56       Yes      Travel_Rarely        310  Research & Development   \n",
       "1452   50       Yes  Travel_Frequently        878                   Sales   \n",
       "1461   50       Yes      Travel_Rarely        410                   Sales   \n",
       "\n",
       "      distance_from_home  education             field  employee_count  \\\n",
       "0                      1          2     Life Sciences               1   \n",
       "2                      2          2             Other               1   \n",
       "14                    24          3     Life Sciences               1   \n",
       "21                     9          4     Life Sciences               1   \n",
       "24                     6          1           Medical               1   \n",
       "...                  ...        ...               ...             ...   \n",
       "1438                   9          3         Marketing               1   \n",
       "1442                   1          4           Medical               1   \n",
       "1444                   7          2  Technical Degree               1   \n",
       "1452                   1          4     Life Sciences               1   \n",
       "1461                  28          3         Marketing               1   \n",
       "\n",
       "      employee_number  ...  relationship_satisfaction standard_hours  \\\n",
       "0                   1  ...                          1             80   \n",
       "2                   4  ...                          2             80   \n",
       "14                 19  ...                          2             80   \n",
       "21                 27  ...                          2             80   \n",
       "24                 31  ...                          3             80   \n",
       "...               ...  ...                        ...            ...   \n",
       "1438             2023  ...                          1             80   \n",
       "1442             2027  ...                          2             80   \n",
       "1444             2032  ...                          4             80   \n",
       "1452             2044  ...                          4             80   \n",
       "1461             2055  ...                          2             80   \n",
       "\n",
       "      stock_option_level  working_years  training_last_year work_life_balance  \\\n",
       "0                      0              8                   0                 1   \n",
       "2                      0              7                   3                 3   \n",
       "14                     0              6                   4                 3   \n",
       "21                     0             10                   4                 3   \n",
       "24                     0              8                   2                 3   \n",
       "...                  ...            ...                 ...               ...   \n",
       "1438                   1              1                   3                 2   \n",
       "1442                   3              4                   3                 4   \n",
       "1444                   1             14                   4                 1   \n",
       "1452                   2             12                   3                 3   \n",
       "1461                   1             20                   3                 3   \n",
       "\n",
       "      years_at_company years_in_current_role  years_since_promotion  \\\n",
       "0                    6                     4                      0   \n",
       "2                    0                     0                      0   \n",
       "14                   4                     2                      0   \n",
       "21                   5                     3                      0   \n",
       "24                   4                     2                      1   \n",
       "...                ...                   ...                    ...   \n",
       "1438                 1                     0                      1   \n",
       "1442                 2                     2                      2   \n",
       "1444                10                     9                      9   \n",
       "1452                 6                     3                      0   \n",
       "1461                 3                     2                      2   \n",
       "\n",
       "      years_with_current_manager  \n",
       "0                              5  \n",
       "2                              0  \n",
       "14                             3  \n",
       "21                             3  \n",
       "24                             3  \n",
       "...                          ...  \n",
       "1438                           0  \n",
       "1442                           2  \n",
       "1444                           8  \n",
       "1452                           1  \n",
       "1461                           0  \n",
       "\n",
       "[237 rows x 35 columns]"
      ]
     },
     "execution_count": 12,
     "metadata": {},
     "output_type": "execute_result"
    }
   ],
   "source": [
    "out"
   ]
  },
  {
   "cell_type": "code",
   "execution_count": 13,
   "metadata": {},
   "outputs": [
    {
     "data": {
      "text/html": [
       "<div>\n",
       "<style scoped>\n",
       "    .dataframe tbody tr th:only-of-type {\n",
       "        vertical-align: middle;\n",
       "    }\n",
       "\n",
       "    .dataframe tbody tr th {\n",
       "        vertical-align: top;\n",
       "    }\n",
       "\n",
       "    .dataframe thead th {\n",
       "        text-align: right;\n",
       "    }\n",
       "</style>\n",
       "<table border=\"1\" class=\"dataframe\">\n",
       "  <thead>\n",
       "    <tr style=\"text-align: right;\">\n",
       "      <th></th>\n",
       "      <th>age</th>\n",
       "      <th>dailyrate</th>\n",
       "      <th>distance_from_home</th>\n",
       "      <th>education</th>\n",
       "      <th>employee_count</th>\n",
       "      <th>employee_number</th>\n",
       "      <th>env_satisfaction</th>\n",
       "      <th>hourly_rate</th>\n",
       "      <th>job_involvement</th>\n",
       "      <th>job_level</th>\n",
       "      <th>...</th>\n",
       "      <th>relationship_satisfaction</th>\n",
       "      <th>standard_hours</th>\n",
       "      <th>stock_option_level</th>\n",
       "      <th>working_years</th>\n",
       "      <th>training_last_year</th>\n",
       "      <th>work_life_balance</th>\n",
       "      <th>years_at_company</th>\n",
       "      <th>years_in_current_role</th>\n",
       "      <th>years_since_promotion</th>\n",
       "      <th>years_with_current_manager</th>\n",
       "    </tr>\n",
       "  </thead>\n",
       "  <tbody>\n",
       "    <tr>\n",
       "      <th>count</th>\n",
       "      <td>237.000000</td>\n",
       "      <td>237.000000</td>\n",
       "      <td>237.000000</td>\n",
       "      <td>237.000000</td>\n",
       "      <td>237.0</td>\n",
       "      <td>237.000000</td>\n",
       "      <td>237.000000</td>\n",
       "      <td>237.000000</td>\n",
       "      <td>237.000000</td>\n",
       "      <td>237.000000</td>\n",
       "      <td>...</td>\n",
       "      <td>237.000000</td>\n",
       "      <td>237.0</td>\n",
       "      <td>237.000000</td>\n",
       "      <td>237.000000</td>\n",
       "      <td>237.000000</td>\n",
       "      <td>237.000000</td>\n",
       "      <td>237.000000</td>\n",
       "      <td>237.000000</td>\n",
       "      <td>237.000000</td>\n",
       "      <td>237.000000</td>\n",
       "    </tr>\n",
       "    <tr>\n",
       "      <th>mean</th>\n",
       "      <td>33.607595</td>\n",
       "      <td>750.362869</td>\n",
       "      <td>10.632911</td>\n",
       "      <td>2.839662</td>\n",
       "      <td>1.0</td>\n",
       "      <td>1010.345992</td>\n",
       "      <td>2.464135</td>\n",
       "      <td>65.573840</td>\n",
       "      <td>2.518987</td>\n",
       "      <td>1.637131</td>\n",
       "      <td>...</td>\n",
       "      <td>2.599156</td>\n",
       "      <td>80.0</td>\n",
       "      <td>0.527426</td>\n",
       "      <td>8.244726</td>\n",
       "      <td>2.624473</td>\n",
       "      <td>2.658228</td>\n",
       "      <td>5.130802</td>\n",
       "      <td>2.902954</td>\n",
       "      <td>1.945148</td>\n",
       "      <td>2.852321</td>\n",
       "    </tr>\n",
       "    <tr>\n",
       "      <th>std</th>\n",
       "      <td>9.689350</td>\n",
       "      <td>401.899519</td>\n",
       "      <td>8.452525</td>\n",
       "      <td>1.008244</td>\n",
       "      <td>0.0</td>\n",
       "      <td>580.750572</td>\n",
       "      <td>1.169791</td>\n",
       "      <td>20.099958</td>\n",
       "      <td>0.773405</td>\n",
       "      <td>0.940594</td>\n",
       "      <td>...</td>\n",
       "      <td>1.125437</td>\n",
       "      <td>0.0</td>\n",
       "      <td>0.856361</td>\n",
       "      <td>7.169204</td>\n",
       "      <td>1.254784</td>\n",
       "      <td>0.816453</td>\n",
       "      <td>5.949984</td>\n",
       "      <td>3.174827</td>\n",
       "      <td>3.153077</td>\n",
       "      <td>3.143349</td>\n",
       "    </tr>\n",
       "    <tr>\n",
       "      <th>min</th>\n",
       "      <td>18.000000</td>\n",
       "      <td>103.000000</td>\n",
       "      <td>1.000000</td>\n",
       "      <td>1.000000</td>\n",
       "      <td>1.0</td>\n",
       "      <td>1.000000</td>\n",
       "      <td>1.000000</td>\n",
       "      <td>31.000000</td>\n",
       "      <td>1.000000</td>\n",
       "      <td>1.000000</td>\n",
       "      <td>...</td>\n",
       "      <td>1.000000</td>\n",
       "      <td>80.0</td>\n",
       "      <td>0.000000</td>\n",
       "      <td>0.000000</td>\n",
       "      <td>0.000000</td>\n",
       "      <td>1.000000</td>\n",
       "      <td>0.000000</td>\n",
       "      <td>0.000000</td>\n",
       "      <td>0.000000</td>\n",
       "      <td>0.000000</td>\n",
       "    </tr>\n",
       "    <tr>\n",
       "      <th>25%</th>\n",
       "      <td>28.000000</td>\n",
       "      <td>408.000000</td>\n",
       "      <td>3.000000</td>\n",
       "      <td>2.000000</td>\n",
       "      <td>1.0</td>\n",
       "      <td>514.000000</td>\n",
       "      <td>1.000000</td>\n",
       "      <td>50.000000</td>\n",
       "      <td>2.000000</td>\n",
       "      <td>1.000000</td>\n",
       "      <td>...</td>\n",
       "      <td>2.000000</td>\n",
       "      <td>80.0</td>\n",
       "      <td>0.000000</td>\n",
       "      <td>3.000000</td>\n",
       "      <td>2.000000</td>\n",
       "      <td>2.000000</td>\n",
       "      <td>1.000000</td>\n",
       "      <td>0.000000</td>\n",
       "      <td>0.000000</td>\n",
       "      <td>0.000000</td>\n",
       "    </tr>\n",
       "    <tr>\n",
       "      <th>50%</th>\n",
       "      <td>32.000000</td>\n",
       "      <td>699.000000</td>\n",
       "      <td>9.000000</td>\n",
       "      <td>3.000000</td>\n",
       "      <td>1.0</td>\n",
       "      <td>1017.000000</td>\n",
       "      <td>3.000000</td>\n",
       "      <td>66.000000</td>\n",
       "      <td>3.000000</td>\n",
       "      <td>1.000000</td>\n",
       "      <td>...</td>\n",
       "      <td>3.000000</td>\n",
       "      <td>80.0</td>\n",
       "      <td>0.000000</td>\n",
       "      <td>7.000000</td>\n",
       "      <td>2.000000</td>\n",
       "      <td>3.000000</td>\n",
       "      <td>3.000000</td>\n",
       "      <td>2.000000</td>\n",
       "      <td>1.000000</td>\n",
       "      <td>2.000000</td>\n",
       "    </tr>\n",
       "    <tr>\n",
       "      <th>75%</th>\n",
       "      <td>39.000000</td>\n",
       "      <td>1092.000000</td>\n",
       "      <td>17.000000</td>\n",
       "      <td>4.000000</td>\n",
       "      <td>1.0</td>\n",
       "      <td>1486.000000</td>\n",
       "      <td>4.000000</td>\n",
       "      <td>84.000000</td>\n",
       "      <td>3.000000</td>\n",
       "      <td>2.000000</td>\n",
       "      <td>...</td>\n",
       "      <td>4.000000</td>\n",
       "      <td>80.0</td>\n",
       "      <td>1.000000</td>\n",
       "      <td>10.000000</td>\n",
       "      <td>3.000000</td>\n",
       "      <td>3.000000</td>\n",
       "      <td>7.000000</td>\n",
       "      <td>4.000000</td>\n",
       "      <td>2.000000</td>\n",
       "      <td>5.000000</td>\n",
       "    </tr>\n",
       "    <tr>\n",
       "      <th>max</th>\n",
       "      <td>58.000000</td>\n",
       "      <td>1496.000000</td>\n",
       "      <td>29.000000</td>\n",
       "      <td>5.000000</td>\n",
       "      <td>1.0</td>\n",
       "      <td>2055.000000</td>\n",
       "      <td>4.000000</td>\n",
       "      <td>100.000000</td>\n",
       "      <td>4.000000</td>\n",
       "      <td>5.000000</td>\n",
       "      <td>...</td>\n",
       "      <td>4.000000</td>\n",
       "      <td>80.0</td>\n",
       "      <td>3.000000</td>\n",
       "      <td>40.000000</td>\n",
       "      <td>6.000000</td>\n",
       "      <td>4.000000</td>\n",
       "      <td>40.000000</td>\n",
       "      <td>15.000000</td>\n",
       "      <td>15.000000</td>\n",
       "      <td>14.000000</td>\n",
       "    </tr>\n",
       "  </tbody>\n",
       "</table>\n",
       "<p>8 rows × 26 columns</p>\n",
       "</div>"
      ],
      "text/plain": [
       "              age    dailyrate  distance_from_home   education  \\\n",
       "count  237.000000   237.000000          237.000000  237.000000   \n",
       "mean    33.607595   750.362869           10.632911    2.839662   \n",
       "std      9.689350   401.899519            8.452525    1.008244   \n",
       "min     18.000000   103.000000            1.000000    1.000000   \n",
       "25%     28.000000   408.000000            3.000000    2.000000   \n",
       "50%     32.000000   699.000000            9.000000    3.000000   \n",
       "75%     39.000000  1092.000000           17.000000    4.000000   \n",
       "max     58.000000  1496.000000           29.000000    5.000000   \n",
       "\n",
       "       employee_count  employee_number  env_satisfaction  hourly_rate  \\\n",
       "count           237.0       237.000000        237.000000   237.000000   \n",
       "mean              1.0      1010.345992          2.464135    65.573840   \n",
       "std               0.0       580.750572          1.169791    20.099958   \n",
       "min               1.0         1.000000          1.000000    31.000000   \n",
       "25%               1.0       514.000000          1.000000    50.000000   \n",
       "50%               1.0      1017.000000          3.000000    66.000000   \n",
       "75%               1.0      1486.000000          4.000000    84.000000   \n",
       "max               1.0      2055.000000          4.000000   100.000000   \n",
       "\n",
       "       job_involvement   job_level  ...  relationship_satisfaction  \\\n",
       "count       237.000000  237.000000  ...                 237.000000   \n",
       "mean          2.518987    1.637131  ...                   2.599156   \n",
       "std           0.773405    0.940594  ...                   1.125437   \n",
       "min           1.000000    1.000000  ...                   1.000000   \n",
       "25%           2.000000    1.000000  ...                   2.000000   \n",
       "50%           3.000000    1.000000  ...                   3.000000   \n",
       "75%           3.000000    2.000000  ...                   4.000000   \n",
       "max           4.000000    5.000000  ...                   4.000000   \n",
       "\n",
       "       standard_hours  stock_option_level  working_years  training_last_year  \\\n",
       "count           237.0          237.000000     237.000000          237.000000   \n",
       "mean             80.0            0.527426       8.244726            2.624473   \n",
       "std               0.0            0.856361       7.169204            1.254784   \n",
       "min              80.0            0.000000       0.000000            0.000000   \n",
       "25%              80.0            0.000000       3.000000            2.000000   \n",
       "50%              80.0            0.000000       7.000000            2.000000   \n",
       "75%              80.0            1.000000      10.000000            3.000000   \n",
       "max              80.0            3.000000      40.000000            6.000000   \n",
       "\n",
       "       work_life_balance  years_at_company  years_in_current_role  \\\n",
       "count         237.000000        237.000000             237.000000   \n",
       "mean            2.658228          5.130802               2.902954   \n",
       "std             0.816453          5.949984               3.174827   \n",
       "min             1.000000          0.000000               0.000000   \n",
       "25%             2.000000          1.000000               0.000000   \n",
       "50%             3.000000          3.000000               2.000000   \n",
       "75%             3.000000          7.000000               4.000000   \n",
       "max             4.000000         40.000000              15.000000   \n",
       "\n",
       "       years_since_promotion  years_with_current_manager  \n",
       "count             237.000000                  237.000000  \n",
       "mean                1.945148                    2.852321  \n",
       "std                 3.153077                    3.143349  \n",
       "min                 0.000000                    0.000000  \n",
       "25%                 0.000000                    0.000000  \n",
       "50%                 1.000000                    2.000000  \n",
       "75%                 2.000000                    5.000000  \n",
       "max                15.000000                   14.000000  \n",
       "\n",
       "[8 rows x 26 columns]"
      ]
     },
     "execution_count": 13,
     "metadata": {},
     "output_type": "execute_result"
    }
   ],
   "source": [
    "out.describe()"
   ]
  },
  {
   "cell_type": "markdown",
   "metadata": {},
   "source": [
    "### Attrition by age"
   ]
  },
  {
   "cell_type": "code",
   "execution_count": 14,
   "metadata": {},
   "outputs": [
    {
     "data": {
      "image/png": "[encoded data removed]",
      "text/plain": [
       "<Figure size 640x480 with 1 Axes>"
      ]
     },
     "metadata": {},
     "output_type": "display_data"
    }
   ],
   "source": [
    "#All employees' age distribution\n",
    "\n",
    "df['age'].plot(kind='hist', \n",
    "                    xlabel='Age', \n",
    "                    ylabel='Frequency', \n",
    "                    bins=30,\n",
    "                    color='skyblue',\n",
    "                    edgecolor='black'\n",
    "                    );"
   ]
  },
  {
   "cell_type": "code",
   "execution_count": 15,
   "metadata": {},
   "outputs": [
    {
     "data": {
      "text/plain": [
       "age\n",
       "35    78\n",
       "34    77\n",
       "36    69\n",
       "31    69\n",
       "29    68\n",
       "32    61\n",
       "30    60\n",
       "38    58\n",
       "33    58\n",
       "40    57\n",
       "37    50\n",
       "27    48\n",
       "28    48\n",
       "42    46\n",
       "39    42\n",
       "45    41\n",
       "41    40\n",
       "26    39\n",
       "44    33\n",
       "46    33\n",
       "43    32\n",
       "50    30\n",
       "24    26\n",
       "25    26\n",
       "47    24\n",
       "49    24\n",
       "55    22\n",
       "53    19\n",
       "48    19\n",
       "51    19\n",
       "52    18\n",
       "54    18\n",
       "22    16\n",
       "56    14\n",
       "23    14\n",
       "58    14\n",
       "21    13\n",
       "20    11\n",
       "59    10\n",
       "19     9\n",
       "18     8\n",
       "60     5\n",
       "57     4\n",
       "dtype: int64"
      ]
     },
     "execution_count": 15,
     "metadata": {},
     "output_type": "execute_result"
    }
   ],
   "source": [
    "age_total = df.groupby('age').size().sort_values(ascending=False)\n",
    "age_total"
   ]
  },
  {
   "cell_type": "code",
   "execution_count": 16,
   "metadata": {},
   "outputs": [
    {
     "data": {
      "text/plain": [
       "age\n",
       "31    18\n",
       "29    18\n",
       "28    14\n",
       "33    12\n",
       "26    12\n",
       "32    11\n",
       "35    10\n",
       "30     9\n",
       "34     9\n",
       "24     7\n",
       "19     6\n",
       "36     6\n",
       "37     6\n",
       "39     6\n",
       "41     6\n",
       "25     6\n",
       "44     6\n",
       "21     6\n",
       "20     6\n",
       "50     5\n",
       "40     5\n",
       "58     5\n",
       "22     5\n",
       "18     4\n",
       "23     4\n",
       "46     4\n",
       "56     3\n",
       "55     3\n",
       "47     3\n",
       "27     3\n",
       "52     3\n",
       "51     2\n",
       "53     2\n",
       "38     2\n",
       "49     2\n",
       "45     2\n",
       "43     2\n",
       "42     2\n",
       "48     2\n",
       "dtype: int64"
      ]
     },
     "execution_count": 16,
     "metadata": {},
     "output_type": "execute_result"
    }
   ],
   "source": [
    "#Grouping employees that left age\n",
    "age_out = out.groupby('age').size().sort_values(ascending=False)\n",
    "age_out"
   ]
  },
  {
   "cell_type": "code",
   "execution_count": 17,
   "metadata": {},
   "outputs": [
    {
     "data": {
      "image/png": "[encoded data removed]",
      "text/plain": [
       "<Figure size 640x480 with 1 Axes>"
      ]
     },
     "metadata": {},
     "output_type": "display_data"
    }
   ],
   "source": [
    "out['age'].plot(kind='hist', \n",
    "                    xlabel='Age', \n",
    "                    ylabel='Frequency', \n",
    "                    bins=30,\n",
    "                    color='skyblue',\n",
    "                    edgecolor='black'\n",
    "                    );\n",
    "\n",
    "# 28-35 is the most frequent age ranges of employees who have left. "
   ]
  },
  {
   "cell_type": "code",
   "execution_count": 18,
   "metadata": {},
   "outputs": [
    {
     "data": {
      "text/plain": [
       "age\n",
       "19    66.666667\n",
       "20    54.545455\n",
       "18    50.000000\n",
       "21    46.153846\n",
       "58    35.714286\n",
       "22    31.250000\n",
       "26    30.769231\n",
       "28    29.166667\n",
       "23    28.571429\n",
       "24    26.923077\n",
       "29    26.470588\n",
       "31    26.086957\n",
       "25    23.076923\n",
       "56    21.428571\n",
       "33    20.689655\n",
       "44    18.181818\n",
       "32    18.032787\n",
       "52    16.666667\n",
       "50    16.666667\n",
       "30    15.000000\n",
       "41    15.000000\n",
       "39    14.285714\n",
       "55    13.636364\n",
       "35    12.820513\n",
       "47    12.500000\n",
       "46    12.121212\n",
       "37    12.000000\n",
       "34    11.688312\n",
       "51    10.526316\n",
       "53    10.526316\n",
       "48    10.526316\n",
       "40     8.771930\n",
       "36     8.695652\n",
       "49     8.333333\n",
       "43     6.250000\n",
       "27     6.250000\n",
       "45     4.878049\n",
       "42     4.347826\n",
       "38     3.448276\n",
       "54     0.000000\n",
       "57     0.000000\n",
       "59     0.000000\n",
       "60     0.000000\n",
       "dtype: float64"
      ]
     },
     "execution_count": 18,
     "metadata": {},
     "output_type": "execute_result"
    }
   ],
   "source": [
    "# Attrition rate by age\n",
    "attrition_rate_age = (age_out/age_total) * 100\n",
    "\n",
    "# Fill NA and sort\n",
    "attrition_rate_age = attrition_rate_age.fillna(0).sort_values(ascending=False)\n",
    "attrition_rate_age\n"
   ]
  },
  {
   "cell_type": "code",
   "execution_count": 19,
   "metadata": {},
   "outputs": [
    {
     "data": {
      "image/png": "[encoded data removed]",
      "text/plain": [
       "<Figure size 1000x600 with 1 Axes>"
      ]
     },
     "metadata": {},
     "output_type": "display_data"
    }
   ],
   "source": [
    "# Bar plot\n",
    "attrition_rate_age.plot(kind='bar', color='skyblue', figsize=(10, 6))\n",
    "plt.title('Attrition Rate by Age')\n",
    "plt.xlabel('Age')\n",
    "plt.ylabel('Attrition Rate (%)')\n",
    "plt.show()"
   ]
  },
  {
   "cell_type": "markdown",
   "metadata": {},
   "source": [
    "### Attrition by department"
   ]
  },
  {
   "cell_type": "code",
   "execution_count": 20,
   "metadata": {},
   "outputs": [
    {
     "data": {
      "text/plain": [
       "department\n",
       "Research & Development    961\n",
       "Sales                     446\n",
       "Human Resources            63\n",
       "dtype: int64"
      ]
     },
     "execution_count": 20,
     "metadata": {},
     "output_type": "execute_result"
    }
   ],
   "source": [
    "dep_total = df.groupby('department').size().sort_values(ascending=False)\n",
    "dep_total"
   ]
  },
  {
   "cell_type": "code",
   "execution_count": 21,
   "metadata": {},
   "outputs": [
    {
     "data": {
      "text/plain": [
       "department\n",
       "Research & Development    133\n",
       "Sales                      92\n",
       "Human Resources            12\n",
       "dtype: int64"
      ]
     },
     "execution_count": 21,
     "metadata": {},
     "output_type": "execute_result"
    }
   ],
   "source": [
    "dep_out = out.groupby('department').size().sort_values(ascending=False)\n",
    "dep_out"
   ]
  },
  {
   "cell_type": "code",
   "execution_count": 22,
   "metadata": {},
   "outputs": [
    {
     "data": {
      "text/plain": [
       "department\n",
       "Sales                     20.627803\n",
       "Human Resources           19.047619\n",
       "Research & Development    13.839750\n",
       "dtype: float64"
      ]
     },
     "execution_count": 22,
     "metadata": {},
     "output_type": "execute_result"
    }
   ],
   "source": [
    "# Attrition rate by department\n",
    "attrition_rate_dep = (dep_out / dep_total)*100\n",
    "\n",
    "# Fill NA and sort\n",
    "attrition_rate_dep = attrition_rate_dep.fillna(0).sort_values(ascending=False)\n",
    "attrition_rate_dep"
   ]
  },
  {
   "cell_type": "markdown",
   "metadata": {},
   "source": [
    "### Attrition by job role"
   ]
  },
  {
   "cell_type": "code",
   "execution_count": 23,
   "metadata": {},
   "outputs": [
    {
     "data": {
      "text/plain": [
       "job_role\n",
       "Sales Executive              326\n",
       "Research Scientist           292\n",
       "Laboratory Technician        259\n",
       "Manufacturing Director       145\n",
       "Healthcare Representative    131\n",
       "Manager                      102\n",
       "Sales Representative          83\n",
       "Research Director             80\n",
       "Human Resources               52\n",
       "dtype: int64"
      ]
     },
     "execution_count": 23,
     "metadata": {},
     "output_type": "execute_result"
    }
   ],
   "source": [
    "role_total = df.groupby('job_role').size().sort_values(ascending=False)\n",
    "role_total"
   ]
  },
  {
   "cell_type": "code",
   "execution_count": 24,
   "metadata": {},
   "outputs": [
    {
     "data": {
      "text/plain": [
       "job_role\n",
       "Laboratory Technician        62\n",
       "Sales Executive              57\n",
       "Research Scientist           47\n",
       "Sales Representative         33\n",
       "Human Resources              12\n",
       "Manufacturing Director       10\n",
       "Healthcare Representative     9\n",
       "Manager                       5\n",
       "Research Director             2\n",
       "dtype: int64"
      ]
     },
     "execution_count": 24,
     "metadata": {},
     "output_type": "execute_result"
    }
   ],
   "source": [
    "role_out = out.groupby('job_role').size().sort_values(ascending=False)\n",
    "role_out"
   ]
  },
  {
   "cell_type": "code",
   "execution_count": 25,
   "metadata": {},
   "outputs": [
    {
     "data": {
      "text/plain": [
       "job_role\n",
       "Sales Representative         39.759036\n",
       "Laboratory Technician        23.938224\n",
       "Human Resources              23.076923\n",
       "Sales Executive              17.484663\n",
       "Research Scientist           16.095890\n",
       "Manufacturing Director        6.896552\n",
       "Healthcare Representative     6.870229\n",
       "Manager                       4.901961\n",
       "Research Director             2.500000\n",
       "dtype: float64"
      ]
     },
     "execution_count": 25,
     "metadata": {},
     "output_type": "execute_result"
    }
   ],
   "source": [
    "# Attrition rate by job role\n",
    "attrition_rate_role = (role_out / role_total)*100\n",
    "\n",
    "# Fill NA and sort\n",
    "attrition_rate_role = attrition_rate_role.fillna(0).sort_values(ascending=False)\n",
    "attrition_rate_role"
   ]
  },
  {
   "cell_type": "markdown",
   "metadata": {},
   "source": [
    "### Attrition by distance from home"
   ]
  },
  {
   "cell_type": "code",
   "execution_count": 26,
   "metadata": {},
   "outputs": [
    {
     "data": {
      "text/plain": [
       "count    1470.000000\n",
       "mean        9.192517\n",
       "std         8.106864\n",
       "min         1.000000\n",
       "25%         2.000000\n",
       "50%         7.000000\n",
       "75%        14.000000\n",
       "max        29.000000\n",
       "Name: distance_from_home, dtype: float64"
      ]
     },
     "execution_count": 26,
     "metadata": {},
     "output_type": "execute_result"
    }
   ],
   "source": [
    "# Distance from hom data\n",
    "df['distance_from_home'].describe()"
   ]
  },
  {
   "cell_type": "code",
   "execution_count": 27,
   "metadata": {},
   "outputs": [
    {
     "data": {
      "text/plain": [
       "distance_from_home\n",
       "2     211\n",
       "1     208\n",
       "10     86\n",
       "9      85\n",
       "3      84\n",
       "dtype: int64"
      ]
     },
     "execution_count": 27,
     "metadata": {},
     "output_type": "execute_result"
    }
   ],
   "source": [
    "distance_total = df.groupby('distance_from_home').size().sort_values(ascending=False)\n",
    "distance_total\n",
    "distance_total.head(5)"
   ]
  },
  {
   "cell_type": "code",
   "execution_count": 28,
   "metadata": {},
   "outputs": [
    {
     "data": {
      "text/plain": [
       "distance_from_home\n",
       "2     28\n",
       "1     26\n",
       "9     18\n",
       "3     14\n",
       "24    12\n",
       "dtype: int64"
      ]
     },
     "execution_count": 28,
     "metadata": {},
     "output_type": "execute_result"
    }
   ],
   "source": [
    "distance_out = out.groupby('distance_from_home').size().sort_values(ascending=False)\n",
    "distance_out.head(5)"
   ]
  },
  {
   "cell_type": "code",
   "execution_count": 29,
   "metadata": {},
   "outputs": [
    {
     "data": {
      "text/plain": [
       "distance_from_home\n",
       "24    42.857143\n",
       "13    31.578947\n",
       "22    31.578947\n",
       "12    30.000000\n",
       "27    25.000000\n",
       "dtype: float64"
      ]
     },
     "execution_count": 29,
     "metadata": {},
     "output_type": "execute_result"
    }
   ],
   "source": [
    "# Attrition rate by distance from home\n",
    "attrition_rate_distance = (distance_out / distance_total)*100\n",
    "\n",
    "# Fill NA and sort\n",
    "attrition_rate_distance = attrition_rate_distance.fillna(0).sort_values(ascending=False)\n",
    "attrition_rate_distance.head(5)"
   ]
  },
  {
   "cell_type": "markdown",
   "metadata": {},
   "source": [
    "### Attrition by job, environment and reltionship satisfaction "
   ]
  },
  {
   "cell_type": "code",
   "execution_count": 30,
   "metadata": {},
   "outputs": [
    {
     "data": {
      "text/plain": [
       "job_satisfaction\n",
       "4    459\n",
       "3    442\n",
       "1    289\n",
       "2    280\n",
       "Name: count, dtype: int64"
      ]
     },
     "execution_count": 30,
     "metadata": {},
     "output_type": "execute_result"
    }
   ],
   "source": [
    "#Job satisfaction\n",
    "job_sat = df['job_satisfaction'].value_counts()\n",
    "job_sat"
   ]
  },
  {
   "cell_type": "code",
   "execution_count": 31,
   "metadata": {},
   "outputs": [
    {
     "data": {
      "text/plain": [
       "job_satisfaction\n",
       "3    73\n",
       "1    66\n",
       "4    52\n",
       "2    46\n",
       "Name: count, dtype: int64"
      ]
     },
     "execution_count": 31,
     "metadata": {},
     "output_type": "execute_result"
    }
   ],
   "source": [
    "job_sat_out = out['job_satisfaction'].value_counts()\n",
    "job_sat_out"
   ]
  },
  {
   "cell_type": "code",
   "execution_count": 32,
   "metadata": {},
   "outputs": [
    {
     "data": {
      "text/plain": [
       "job_satisfaction\n",
       "1    22.837370\n",
       "2    16.428571\n",
       "3    16.515837\n",
       "4    11.328976\n",
       "Name: count, dtype: float64"
      ]
     },
     "execution_count": 32,
     "metadata": {},
     "output_type": "execute_result"
    }
   ],
   "source": [
    "# Attrition rate by job satisfaction\n",
    "attrition_rate_job_sat = (job_sat_out / job_sat)*100\n",
    "attrition_rate_job_sat"
   ]
  },
  {
   "cell_type": "code",
   "execution_count": 33,
   "metadata": {},
   "outputs": [
    {
     "data": {
      "text/plain": [
       "env_satisfaction\n",
       "3    453\n",
       "4    446\n",
       "2    287\n",
       "1    284\n",
       "Name: count, dtype: int64"
      ]
     },
     "execution_count": 33,
     "metadata": {},
     "output_type": "execute_result"
    }
   ],
   "source": [
    "#Environment environment\n",
    "env_sat = df['env_satisfaction'].value_counts()\n",
    "env_sat"
   ]
  },
  {
   "cell_type": "code",
   "execution_count": 34,
   "metadata": {},
   "outputs": [
    {
     "data": {
      "text/plain": [
       "env_satisfaction\n",
       "1    72\n",
       "3    62\n",
       "4    60\n",
       "2    43\n",
       "Name: count, dtype: int64"
      ]
     },
     "execution_count": 34,
     "metadata": {},
     "output_type": "execute_result"
    }
   ],
   "source": [
    "env_sat_out = out['env_satisfaction'].value_counts()\n",
    "env_sat_out"
   ]
  },
  {
   "cell_type": "code",
   "execution_count": 35,
   "metadata": {},
   "outputs": [
    {
     "data": {
      "text/plain": [
       "env_satisfaction\n",
       "1    25.352113\n",
       "2    14.982578\n",
       "3    13.686534\n",
       "4    13.452915\n",
       "Name: count, dtype: float64"
      ]
     },
     "execution_count": 35,
     "metadata": {},
     "output_type": "execute_result"
    }
   ],
   "source": [
    "# Attrition rate by environment satisfaction\n",
    "attrition_rate_env_sat = (env_sat_out / env_sat)*100\n",
    "attrition_rate_env_sat"
   ]
  },
  {
   "cell_type": "code",
   "execution_count": 36,
   "metadata": {},
   "outputs": [
    {
     "data": {
      "text/plain": [
       "relationship_satisfaction\n",
       "3    459\n",
       "4    432\n",
       "2    303\n",
       "1    276\n",
       "Name: count, dtype: int64"
      ]
     },
     "execution_count": 36,
     "metadata": {},
     "output_type": "execute_result"
    }
   ],
   "source": [
    "#Relationship satisfaciton\n",
    "rel_sat = df['relationship_satisfaction'].value_counts()\n",
    "rel_sat"
   ]
  },
  {
   "cell_type": "code",
   "execution_count": 37,
   "metadata": {},
   "outputs": [
    {
     "data": {
      "text/plain": [
       "relationship_satisfaction\n",
       "3    71\n",
       "4    64\n",
       "1    57\n",
       "2    45\n",
       "Name: count, dtype: int64"
      ]
     },
     "execution_count": 37,
     "metadata": {},
     "output_type": "execute_result"
    }
   ],
   "source": [
    "rel_sat_out = out['relationship_satisfaction'].value_counts()\n",
    "rel_sat_out"
   ]
  },
  {
   "cell_type": "code",
   "execution_count": 38,
   "metadata": {},
   "outputs": [
    {
     "data": {
      "text/plain": [
       "relationship_satisfaction\n",
       "1    20.652174\n",
       "2    14.851485\n",
       "3    15.468410\n",
       "4    14.814815\n",
       "Name: count, dtype: float64"
      ]
     },
     "execution_count": 38,
     "metadata": {},
     "output_type": "execute_result"
    }
   ],
   "source": [
    "# Attrition rate by relationship satisfaction\n",
    "attrition_rate_rel_sat = (rel_sat_out / rel_sat)*100\n",
    "attrition_rate_rel_sat"
   ]
  },
  {
   "cell_type": "markdown",
   "metadata": {},
   "source": [
    "### Roles and satisfaction\n",
    "\n",
    "On a scale of 1 to 4"
   ]
  },
  {
   "cell_type": "code",
   "execution_count": 40,
   "metadata": {},
   "outputs": [
    {
     "data": {
      "text/plain": [
       "job_role\n",
       "Human Resources              2.557692\n",
       "Manufacturing Director       2.682759\n",
       "Laboratory Technician        2.691120\n",
       "Research Director            2.700000\n",
       "Manager                      2.705882\n",
       "Sales Representative         2.734940\n",
       "Sales Executive              2.754601\n",
       "Research Scientist           2.773973\n",
       "Healthcare Representative    2.786260\n",
       "Name: job_satisfaction, dtype: float64"
      ]
     },
     "execution_count": 40,
     "metadata": {},
     "output_type": "execute_result"
    }
   ],
   "source": [
    "satisfaction_roles = df.groupby('job_role')['job_satisfaction'].mean().sort_values()\n",
    "satisfaction_roles"
   ]
  },
  {
   "cell_type": "code",
   "execution_count": null,
   "metadata": {},
   "outputs": [],
   "source": [
    "satisfaction_roles = df.groupby('job_role')['job_satisfaction'].mean().sort_values()\n",
    "satisfaction_roles\n"
   ]
  },
  {
   "cell_type": "markdown",
   "metadata": {},
   "source": [
    "### Salary\n",
    "\n"
   ]
  },
  {
   "cell_type": "code",
   "execution_count": 41,
   "metadata": {},
   "outputs": [
    {
     "data": {
      "text/plain": [
       "count     1470.000000\n",
       "mean      6502.931293\n",
       "std       4707.956783\n",
       "min       1009.000000\n",
       "25%       2911.000000\n",
       "50%       4919.000000\n",
       "75%       8379.000000\n",
       "max      19999.000000\n",
       "Name: monthly_income, dtype: float64"
      ]
     },
     "execution_count": 41,
     "metadata": {},
     "output_type": "execute_result"
    }
   ],
   "source": [
    "df['monthly_income'].describe()"
   ]
  },
  {
   "cell_type": "code",
   "execution_count": 42,
   "metadata": {},
   "outputs": [
    {
     "data": {
      "image/png": "[encoded data removed]",
      "text/plain": [
       "<Figure size 640x480 with 1 Axes>"
      ]
     },
     "metadata": {},
     "output_type": "display_data"
    }
   ],
   "source": [
    "#Monthly income distribution\n",
    "\n",
    "df['monthly_income'].plot(kind='hist', \n",
    "                    xlabel='Monthly Income', \n",
    "                    ylabel='Frequency', \n",
    "                    bins=30,\n",
    "                    color='skyblue',\n",
    "                    edgecolor='black'\n",
    "                    );"
   ]
  },
  {
   "cell_type": "code",
   "execution_count": 43,
   "metadata": {},
   "outputs": [
    {
     "data": {
      "image/png": "[encoded data removed]",
      "text/plain": [
       "<Figure size 640x480 with 1 Axes>"
      ]
     },
     "metadata": {},
     "output_type": "display_data"
    }
   ],
   "source": [
    "#Gone employees income distribution\n",
    "\n",
    "out['monthly_income'].plot(kind='hist', \n",
    "                    xlabel='Monthly Income', \n",
    "                    ylabel='Frequency', \n",
    "                    bins=30,\n",
    "                    color='skyblue',\n",
    "                    edgecolor='black'\n",
    "                    );"
   ]
  },
  {
   "cell_type": "code",
   "execution_count": 44,
   "metadata": {},
   "outputs": [
    {
     "data": {
      "text/plain": [
       "job_role\n",
       "Sales Representative          2626.000000\n",
       "Laboratory Technician         3237.169884\n",
       "Research Scientist            3239.972603\n",
       "Human Resources               4235.750000\n",
       "Sales Executive               6924.279141\n",
       "Manufacturing Director        7295.137931\n",
       "Healthcare Representative     7528.763359\n",
       "Research Director            16033.550000\n",
       "Manager                      17181.676471\n",
       "Name: monthly_income, dtype: float64"
      ]
     },
     "execution_count": 44,
     "metadata": {},
     "output_type": "execute_result"
    }
   ],
   "source": [
    "income_roles = df.groupby('job_role')['monthly_income'].mean().sort_values()\n",
    "income_roles"
   ]
  },
  {
   "cell_type": "code",
   "execution_count": null,
   "metadata": {},
   "outputs": [],
   "source": []
  }
 ],
 "metadata": {
  "kernelspec": {
   "display_name": "Python 3",
   "language": "python",
   "name": "python3"
  },
  "language_info": {
   "codemirror_mode": {
    "name": "ipython",
    "version": 3
   },
   "file_extension": ".py",
   "mimetype": "text/x-python",
   "name": "python",
   "nbconvert_exporter": "python",
   "pygments_lexer": "ipython3",
   "version": "3.9.19"
  }
 },
 "nbformat": 4,
 "nbformat_minor": 2
}
