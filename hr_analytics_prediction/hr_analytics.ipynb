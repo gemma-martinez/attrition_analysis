{
 "cells": [
  {
   "cell_type": "markdown",
   "metadata": {},
   "source": [
    "# HR Analytics Prediction: Why do People Resign?\n",
    "\n",
    "Source: https://www.kaggle.com/code/paramarthasengupta/hr-analytics-prediction-why-do-people-resign/notebook"
   ]
  },
  {
   "cell_type": "markdown",
   "metadata": {},
   "source": [
    "## Import packages and file"
   ]
  },
  {
   "cell_type": "code",
   "execution_count": 1,
   "metadata": {},
   "outputs": [],
   "source": [
    "# Import packages\n",
    "import numpy as np\n",
    "import pandas as pd\n",
    "import matplotlib.pyplot as plt\n",
    "import seaborn as sns\n",
    "import plotly.express as px\n",
    "from scipy.stats import pearsonr"
   ]
  },
  {
   "cell_type": "code",
   "execution_count": 2,
   "metadata": {},
   "outputs": [
    {
     "data": {
      "text/html": [
       "<div>\n",
       "<style scoped>\n",
       "    .dataframe tbody tr th:only-of-type {\n",
       "        vertical-align: middle;\n",
       "    }\n",
       "\n",
       "    .dataframe tbody tr th {\n",
       "        vertical-align: top;\n",
       "    }\n",
       "\n",
       "    .dataframe thead th {\n",
       "        text-align: right;\n",
       "    }\n",
       "</style>\n",
       "<table border=\"1\" class=\"dataframe\">\n",
       "  <thead>\n",
       "    <tr style=\"text-align: right;\">\n",
       "      <th></th>\n",
       "      <th>Age</th>\n",
       "      <th>Attrition</th>\n",
       "      <th>BusinessTravel</th>\n",
       "      <th>DailyRate</th>\n",
       "      <th>Department</th>\n",
       "      <th>DistanceFromHome</th>\n",
       "      <th>Education</th>\n",
       "      <th>EducationField</th>\n",
       "      <th>EmployeeCount</th>\n",
       "      <th>EmployeeNumber</th>\n",
       "      <th>...</th>\n",
       "      <th>RelationshipSatisfaction</th>\n",
       "      <th>StandardHours</th>\n",
       "      <th>StockOptionLevel</th>\n",
       "      <th>TotalWorkingYears</th>\n",
       "      <th>TrainingTimesLastYear</th>\n",
       "      <th>WorkLifeBalance</th>\n",
       "      <th>YearsAtCompany</th>\n",
       "      <th>YearsInCurrentRole</th>\n",
       "      <th>YearsSinceLastPromotion</th>\n",
       "      <th>YearsWithCurrManager</th>\n",
       "    </tr>\n",
       "  </thead>\n",
       "  <tbody>\n",
       "    <tr>\n",
       "      <th>0</th>\n",
       "      <td>41</td>\n",
       "      <td>Yes</td>\n",
       "      <td>Travel_Rarely</td>\n",
       "      <td>1102</td>\n",
       "      <td>Sales</td>\n",
       "      <td>1</td>\n",
       "      <td>2</td>\n",
       "      <td>Life Sciences</td>\n",
       "      <td>1</td>\n",
       "      <td>1</td>\n",
       "      <td>...</td>\n",
       "      <td>1</td>\n",
       "      <td>80</td>\n",
       "      <td>0</td>\n",
       "      <td>8</td>\n",
       "      <td>0</td>\n",
       "      <td>1</td>\n",
       "      <td>6</td>\n",
       "      <td>4</td>\n",
       "      <td>0</td>\n",
       "      <td>5</td>\n",
       "    </tr>\n",
       "    <tr>\n",
       "      <th>1</th>\n",
       "      <td>49</td>\n",
       "      <td>No</td>\n",
       "      <td>Travel_Frequently</td>\n",
       "      <td>279</td>\n",
       "      <td>Research &amp; Development</td>\n",
       "      <td>8</td>\n",
       "      <td>1</td>\n",
       "      <td>Life Sciences</td>\n",
       "      <td>1</td>\n",
       "      <td>2</td>\n",
       "      <td>...</td>\n",
       "      <td>4</td>\n",
       "      <td>80</td>\n",
       "      <td>1</td>\n",
       "      <td>10</td>\n",
       "      <td>3</td>\n",
       "      <td>3</td>\n",
       "      <td>10</td>\n",
       "      <td>7</td>\n",
       "      <td>1</td>\n",
       "      <td>7</td>\n",
       "    </tr>\n",
       "    <tr>\n",
       "      <th>2</th>\n",
       "      <td>37</td>\n",
       "      <td>Yes</td>\n",
       "      <td>Travel_Rarely</td>\n",
       "      <td>1373</td>\n",
       "      <td>Research &amp; Development</td>\n",
       "      <td>2</td>\n",
       "      <td>2</td>\n",
       "      <td>Other</td>\n",
       "      <td>1</td>\n",
       "      <td>4</td>\n",
       "      <td>...</td>\n",
       "      <td>2</td>\n",
       "      <td>80</td>\n",
       "      <td>0</td>\n",
       "      <td>7</td>\n",
       "      <td>3</td>\n",
       "      <td>3</td>\n",
       "      <td>0</td>\n",
       "      <td>0</td>\n",
       "      <td>0</td>\n",
       "      <td>0</td>\n",
       "    </tr>\n",
       "    <tr>\n",
       "      <th>3</th>\n",
       "      <td>33</td>\n",
       "      <td>No</td>\n",
       "      <td>Travel_Frequently</td>\n",
       "      <td>1392</td>\n",
       "      <td>Research &amp; Development</td>\n",
       "      <td>3</td>\n",
       "      <td>4</td>\n",
       "      <td>Life Sciences</td>\n",
       "      <td>1</td>\n",
       "      <td>5</td>\n",
       "      <td>...</td>\n",
       "      <td>3</td>\n",
       "      <td>80</td>\n",
       "      <td>0</td>\n",
       "      <td>8</td>\n",
       "      <td>3</td>\n",
       "      <td>3</td>\n",
       "      <td>8</td>\n",
       "      <td>7</td>\n",
       "      <td>3</td>\n",
       "      <td>0</td>\n",
       "    </tr>\n",
       "    <tr>\n",
       "      <th>4</th>\n",
       "      <td>27</td>\n",
       "      <td>No</td>\n",
       "      <td>Travel_Rarely</td>\n",
       "      <td>591</td>\n",
       "      <td>Research &amp; Development</td>\n",
       "      <td>2</td>\n",
       "      <td>1</td>\n",
       "      <td>Medical</td>\n",
       "      <td>1</td>\n",
       "      <td>7</td>\n",
       "      <td>...</td>\n",
       "      <td>4</td>\n",
       "      <td>80</td>\n",
       "      <td>1</td>\n",
       "      <td>6</td>\n",
       "      <td>3</td>\n",
       "      <td>3</td>\n",
       "      <td>2</td>\n",
       "      <td>2</td>\n",
       "      <td>2</td>\n",
       "      <td>2</td>\n",
       "    </tr>\n",
       "  </tbody>\n",
       "</table>\n",
       "<p>5 rows × 35 columns</p>\n",
       "</div>"
      ],
      "text/plain": [
       "   Age Attrition     BusinessTravel  DailyRate              Department  \\\n",
       "0   41       Yes      Travel_Rarely       1102                   Sales   \n",
       "1   49        No  Travel_Frequently        279  Research & Development   \n",
       "2   37       Yes      Travel_Rarely       1373  Research & Development   \n",
       "3   33        No  Travel_Frequently       1392  Research & Development   \n",
       "4   27        No      Travel_Rarely        591  Research & Development   \n",
       "\n",
       "   DistanceFromHome  Education EducationField  EmployeeCount  EmployeeNumber  \\\n",
       "0                 1          2  Life Sciences              1               1   \n",
       "1                 8          1  Life Sciences              1               2   \n",
       "2                 2          2          Other              1               4   \n",
       "3                 3          4  Life Sciences              1               5   \n",
       "4                 2          1        Medical              1               7   \n",
       "\n",
       "   ...  RelationshipSatisfaction StandardHours  StockOptionLevel  \\\n",
       "0  ...                         1            80                 0   \n",
       "1  ...                         4            80                 1   \n",
       "2  ...                         2            80                 0   \n",
       "3  ...                         3            80                 0   \n",
       "4  ...                         4            80                 1   \n",
       "\n",
       "   TotalWorkingYears  TrainingTimesLastYear WorkLifeBalance  YearsAtCompany  \\\n",
       "0                  8                      0               1               6   \n",
       "1                 10                      3               3              10   \n",
       "2                  7                      3               3               0   \n",
       "3                  8                      3               3               8   \n",
       "4                  6                      3               3               2   \n",
       "\n",
       "  YearsInCurrentRole  YearsSinceLastPromotion  YearsWithCurrManager  \n",
       "0                  4                        0                     5  \n",
       "1                  7                        1                     7  \n",
       "2                  0                        0                     0  \n",
       "3                  7                        3                     0  \n",
       "4                  2                        2                     2  \n",
       "\n",
       "[5 rows x 35 columns]"
      ]
     },
     "execution_count": 2,
     "metadata": {},
     "output_type": "execute_result"
    }
   ],
   "source": [
    "# Read file\n",
    "df = pd.read_csv('employee_attrition.csv')\n",
    "df.head(5)"
   ]
  },
  {
   "cell_type": "code",
   "execution_count": 3,
   "metadata": {},
   "outputs": [
    {
     "data": {
      "text/plain": [
       "Index(['Age', 'Attrition', 'BusinessTravel', 'DailyRate', 'Department',\n",
       "       'DistanceFromHome', 'Education', 'EducationField', 'EmployeeCount',\n",
       "       'EmployeeNumber', 'EnvironmentSatisfaction', 'Gender', 'HourlyRate',\n",
       "       'JobInvolvement', 'JobLevel', 'JobRole', 'JobSatisfaction',\n",
       "       'MaritalStatus', 'MonthlyIncome', 'MonthlyRate', 'NumCompaniesWorked',\n",
       "       'Over18', 'OverTime', 'PercentSalaryHike', 'PerformanceRating',\n",
       "       'RelationshipSatisfaction', 'StandardHours', 'StockOptionLevel',\n",
       "       'TotalWorkingYears', 'TrainingTimesLastYear', 'WorkLifeBalance',\n",
       "       'YearsAtCompany', 'YearsInCurrentRole', 'YearsSinceLastPromotion',\n",
       "       'YearsWithCurrManager'],\n",
       "      dtype='object')"
      ]
     },
     "execution_count": 3,
     "metadata": {},
     "output_type": "execute_result"
    }
   ],
   "source": [
    "df.columns"
   ]
  },
  {
   "cell_type": "markdown",
   "metadata": {},
   "source": [
    " ## Data preparation"
   ]
  },
  {
   "cell_type": "code",
   "execution_count": 4,
   "metadata": {},
   "outputs": [],
   "source": [
    "df.columns = [col.lower() for col in df.columns]\n",
    "df = df.rename(columns={'businesstravel':'travel',\n",
    "                        'distancefromhome':'distance_from_home',\n",
    "                        'educationfield':'field', \n",
    "                        'employeecount':'employee_count',\n",
    "                        'employeenumber': 'employee_number',\n",
    "                        'environmentsatisfaction':'env_satisfaction',\n",
    "                        'hourlyrate':'hourly_rate',\n",
    "                        'jobinvolvement':'job_involvement',\n",
    "                        'joblevel':'job_level',\n",
    "                        'jobrole':'job_role',\n",
    "                        'jobsatisfaction':'job_satisfaction',\n",
    "                        'maritalstatus':'marital_status',\n",
    "                        'monthlyincome':'monthly_income',\n",
    "                        'monthlyrate':'monthly_rate',\n",
    "                        'numcompaniesworked':'num_companies_worked',\n",
    "                        'over18':'over_18',\n",
    "                        'percentsalaryhike':'percent_salary_hike',\n",
    "                        'performancerating':'performance_rating',\n",
    "                        'relationshipsatisfaction':'relationship_satisfaction',\n",
    "                        'standardhours':'standard_hours',\n",
    "                        'stockoptionlevel':'stock_option_level',\n",
    "                        'totalworkingyears':'working_years',\n",
    "                        'trainingtimeslastyear':'training_last_year',\n",
    "                        'worklifebalance':'work_life_balance',\n",
    "                        'yearsatcompany': 'years_at_company',\n",
    "                        'yearsincurrentrole' :'years_in_current_role',\n",
    "                        'yearssincelastpromotion':'years_since_promotion',\n",
    "                        'yearswithcurrmanager':'years_with_current_manager'})"
   ]
  },
  {
   "cell_type": "code",
   "execution_count": 5,
   "metadata": {},
   "outputs": [
    {
     "name": "stdout",
     "output_type": "stream",
     "text": [
      "<class 'pandas.core.frame.DataFrame'>\n",
      "RangeIndex: 1470 entries, 0 to 1469\n",
      "Data columns (total 35 columns):\n",
      " #   Column                      Non-Null Count  Dtype \n",
      "---  ------                      --------------  ----- \n",
      " 0   age                         1470 non-null   int64 \n",
      " 1   attrition                   1470 non-null   object\n",
      " 2   travel                      1470 non-null   object\n",
      " 3   dailyrate                   1470 non-null   int64 \n",
      " 4   department                  1470 non-null   object\n",
      " 5   distance_from_home          1470 non-null   int64 \n",
      " 6   education                   1470 non-null   int64 \n",
      " 7   field                       1470 non-null   object\n",
      " 8   employee_count              1470 non-null   int64 \n",
      " 9   employee_number             1470 non-null   int64 \n",
      " 10  env_satisfaction            1470 non-null   int64 \n",
      " 11  gender                      1470 non-null   object\n",
      " 12  hourly_rate                 1470 non-null   int64 \n",
      " 13  job_involvement             1470 non-null   int64 \n",
      " 14  job_level                   1470 non-null   int64 \n",
      " 15  job_role                    1470 non-null   object\n",
      " 16  job_satisfaction            1470 non-null   int64 \n",
      " 17  marital_status              1470 non-null   object\n",
      " 18  monthly_income              1470 non-null   int64 \n",
      " 19  monthly_rate                1470 non-null   int64 \n",
      " 20  num_companies_worked        1470 non-null   int64 \n",
      " 21  over_18                     1470 non-null   object\n",
      " 22  overtime                    1470 non-null   object\n",
      " 23  percent_salary_hike         1470 non-null   int64 \n",
      " 24  performance_rating          1470 non-null   int64 \n",
      " 25  relationship_satisfaction   1470 non-null   int64 \n",
      " 26  standard_hours              1470 non-null   int64 \n",
      " 27  stock_option_level          1470 non-null   int64 \n",
      " 28  working_years               1470 non-null   int64 \n",
      " 29  training_last_year          1470 non-null   int64 \n",
      " 30  work_life_balance           1470 non-null   int64 \n",
      " 31  years_at_company            1470 non-null   int64 \n",
      " 32  years_in_current_role       1470 non-null   int64 \n",
      " 33  years_since_promotion       1470 non-null   int64 \n",
      " 34  years_with_current_manager  1470 non-null   int64 \n",
      "dtypes: int64(26), object(9)\n",
      "memory usage: 402.1+ KB\n"
     ]
    }
   ],
   "source": [
    "df.info()"
   ]
  },
  {
   "cell_type": "code",
   "execution_count": 6,
   "metadata": {},
   "outputs": [
    {
     "data": {
      "text/html": [
       "<div>\n",
       "<style scoped>\n",
       "    .dataframe tbody tr th:only-of-type {\n",
       "        vertical-align: middle;\n",
       "    }\n",
       "\n",
       "    .dataframe tbody tr th {\n",
       "        vertical-align: top;\n",
       "    }\n",
       "\n",
       "    .dataframe thead th {\n",
       "        text-align: right;\n",
       "    }\n",
       "</style>\n",
       "<table border=\"1\" class=\"dataframe\">\n",
       "  <thead>\n",
       "    <tr style=\"text-align: right;\">\n",
       "      <th></th>\n",
       "      <th>age</th>\n",
       "      <th>dailyrate</th>\n",
       "      <th>distance_from_home</th>\n",
       "      <th>education</th>\n",
       "      <th>employee_count</th>\n",
       "      <th>employee_number</th>\n",
       "      <th>env_satisfaction</th>\n",
       "      <th>hourly_rate</th>\n",
       "      <th>job_involvement</th>\n",
       "      <th>job_level</th>\n",
       "      <th>...</th>\n",
       "      <th>relationship_satisfaction</th>\n",
       "      <th>standard_hours</th>\n",
       "      <th>stock_option_level</th>\n",
       "      <th>working_years</th>\n",
       "      <th>training_last_year</th>\n",
       "      <th>work_life_balance</th>\n",
       "      <th>years_at_company</th>\n",
       "      <th>years_in_current_role</th>\n",
       "      <th>years_since_promotion</th>\n",
       "      <th>years_with_current_manager</th>\n",
       "    </tr>\n",
       "  </thead>\n",
       "  <tbody>\n",
       "    <tr>\n",
       "      <th>count</th>\n",
       "      <td>1470.000000</td>\n",
       "      <td>1470.000000</td>\n",
       "      <td>1470.000000</td>\n",
       "      <td>1470.000000</td>\n",
       "      <td>1470.0</td>\n",
       "      <td>1470.000000</td>\n",
       "      <td>1470.000000</td>\n",
       "      <td>1470.000000</td>\n",
       "      <td>1470.000000</td>\n",
       "      <td>1470.000000</td>\n",
       "      <td>...</td>\n",
       "      <td>1470.000000</td>\n",
       "      <td>1470.0</td>\n",
       "      <td>1470.000000</td>\n",
       "      <td>1470.000000</td>\n",
       "      <td>1470.000000</td>\n",
       "      <td>1470.000000</td>\n",
       "      <td>1470.000000</td>\n",
       "      <td>1470.000000</td>\n",
       "      <td>1470.000000</td>\n",
       "      <td>1470.000000</td>\n",
       "    </tr>\n",
       "    <tr>\n",
       "      <th>mean</th>\n",
       "      <td>36.923810</td>\n",
       "      <td>802.485714</td>\n",
       "      <td>9.192517</td>\n",
       "      <td>2.912925</td>\n",
       "      <td>1.0</td>\n",
       "      <td>1024.865306</td>\n",
       "      <td>2.721769</td>\n",
       "      <td>65.891156</td>\n",
       "      <td>2.729932</td>\n",
       "      <td>2.063946</td>\n",
       "      <td>...</td>\n",
       "      <td>2.712245</td>\n",
       "      <td>80.0</td>\n",
       "      <td>0.793878</td>\n",
       "      <td>11.279592</td>\n",
       "      <td>2.799320</td>\n",
       "      <td>2.761224</td>\n",
       "      <td>7.008163</td>\n",
       "      <td>4.229252</td>\n",
       "      <td>2.187755</td>\n",
       "      <td>4.123129</td>\n",
       "    </tr>\n",
       "    <tr>\n",
       "      <th>std</th>\n",
       "      <td>9.135373</td>\n",
       "      <td>403.509100</td>\n",
       "      <td>8.106864</td>\n",
       "      <td>1.024165</td>\n",
       "      <td>0.0</td>\n",
       "      <td>602.024335</td>\n",
       "      <td>1.093082</td>\n",
       "      <td>20.329428</td>\n",
       "      <td>0.711561</td>\n",
       "      <td>1.106940</td>\n",
       "      <td>...</td>\n",
       "      <td>1.081209</td>\n",
       "      <td>0.0</td>\n",
       "      <td>0.852077</td>\n",
       "      <td>7.780782</td>\n",
       "      <td>1.289271</td>\n",
       "      <td>0.706476</td>\n",
       "      <td>6.126525</td>\n",
       "      <td>3.623137</td>\n",
       "      <td>3.222430</td>\n",
       "      <td>3.568136</td>\n",
       "    </tr>\n",
       "    <tr>\n",
       "      <th>min</th>\n",
       "      <td>18.000000</td>\n",
       "      <td>102.000000</td>\n",
       "      <td>1.000000</td>\n",
       "      <td>1.000000</td>\n",
       "      <td>1.0</td>\n",
       "      <td>1.000000</td>\n",
       "      <td>1.000000</td>\n",
       "      <td>30.000000</td>\n",
       "      <td>1.000000</td>\n",
       "      <td>1.000000</td>\n",
       "      <td>...</td>\n",
       "      <td>1.000000</td>\n",
       "      <td>80.0</td>\n",
       "      <td>0.000000</td>\n",
       "      <td>0.000000</td>\n",
       "      <td>0.000000</td>\n",
       "      <td>1.000000</td>\n",
       "      <td>0.000000</td>\n",
       "      <td>0.000000</td>\n",
       "      <td>0.000000</td>\n",
       "      <td>0.000000</td>\n",
       "    </tr>\n",
       "    <tr>\n",
       "      <th>25%</th>\n",
       "      <td>30.000000</td>\n",
       "      <td>465.000000</td>\n",
       "      <td>2.000000</td>\n",
       "      <td>2.000000</td>\n",
       "      <td>1.0</td>\n",
       "      <td>491.250000</td>\n",
       "      <td>2.000000</td>\n",
       "      <td>48.000000</td>\n",
       "      <td>2.000000</td>\n",
       "      <td>1.000000</td>\n",
       "      <td>...</td>\n",
       "      <td>2.000000</td>\n",
       "      <td>80.0</td>\n",
       "      <td>0.000000</td>\n",
       "      <td>6.000000</td>\n",
       "      <td>2.000000</td>\n",
       "      <td>2.000000</td>\n",
       "      <td>3.000000</td>\n",
       "      <td>2.000000</td>\n",
       "      <td>0.000000</td>\n",
       "      <td>2.000000</td>\n",
       "    </tr>\n",
       "    <tr>\n",
       "      <th>50%</th>\n",
       "      <td>36.000000</td>\n",
       "      <td>802.000000</td>\n",
       "      <td>7.000000</td>\n",
       "      <td>3.000000</td>\n",
       "      <td>1.0</td>\n",
       "      <td>1020.500000</td>\n",
       "      <td>3.000000</td>\n",
       "      <td>66.000000</td>\n",
       "      <td>3.000000</td>\n",
       "      <td>2.000000</td>\n",
       "      <td>...</td>\n",
       "      <td>3.000000</td>\n",
       "      <td>80.0</td>\n",
       "      <td>1.000000</td>\n",
       "      <td>10.000000</td>\n",
       "      <td>3.000000</td>\n",
       "      <td>3.000000</td>\n",
       "      <td>5.000000</td>\n",
       "      <td>3.000000</td>\n",
       "      <td>1.000000</td>\n",
       "      <td>3.000000</td>\n",
       "    </tr>\n",
       "    <tr>\n",
       "      <th>75%</th>\n",
       "      <td>43.000000</td>\n",
       "      <td>1157.000000</td>\n",
       "      <td>14.000000</td>\n",
       "      <td>4.000000</td>\n",
       "      <td>1.0</td>\n",
       "      <td>1555.750000</td>\n",
       "      <td>4.000000</td>\n",
       "      <td>83.750000</td>\n",
       "      <td>3.000000</td>\n",
       "      <td>3.000000</td>\n",
       "      <td>...</td>\n",
       "      <td>4.000000</td>\n",
       "      <td>80.0</td>\n",
       "      <td>1.000000</td>\n",
       "      <td>15.000000</td>\n",
       "      <td>3.000000</td>\n",
       "      <td>3.000000</td>\n",
       "      <td>9.000000</td>\n",
       "      <td>7.000000</td>\n",
       "      <td>3.000000</td>\n",
       "      <td>7.000000</td>\n",
       "    </tr>\n",
       "    <tr>\n",
       "      <th>max</th>\n",
       "      <td>60.000000</td>\n",
       "      <td>1499.000000</td>\n",
       "      <td>29.000000</td>\n",
       "      <td>5.000000</td>\n",
       "      <td>1.0</td>\n",
       "      <td>2068.000000</td>\n",
       "      <td>4.000000</td>\n",
       "      <td>100.000000</td>\n",
       "      <td>4.000000</td>\n",
       "      <td>5.000000</td>\n",
       "      <td>...</td>\n",
       "      <td>4.000000</td>\n",
       "      <td>80.0</td>\n",
       "      <td>3.000000</td>\n",
       "      <td>40.000000</td>\n",
       "      <td>6.000000</td>\n",
       "      <td>4.000000</td>\n",
       "      <td>40.000000</td>\n",
       "      <td>18.000000</td>\n",
       "      <td>15.000000</td>\n",
       "      <td>17.000000</td>\n",
       "    </tr>\n",
       "  </tbody>\n",
       "</table>\n",
       "<p>8 rows × 26 columns</p>\n",
       "</div>"
      ],
      "text/plain": [
       "               age    dailyrate  distance_from_home    education  \\\n",
       "count  1470.000000  1470.000000         1470.000000  1470.000000   \n",
       "mean     36.923810   802.485714            9.192517     2.912925   \n",
       "std       9.135373   403.509100            8.106864     1.024165   \n",
       "min      18.000000   102.000000            1.000000     1.000000   \n",
       "25%      30.000000   465.000000            2.000000     2.000000   \n",
       "50%      36.000000   802.000000            7.000000     3.000000   \n",
       "75%      43.000000  1157.000000           14.000000     4.000000   \n",
       "max      60.000000  1499.000000           29.000000     5.000000   \n",
       "\n",
       "       employee_count  employee_number  env_satisfaction  hourly_rate  \\\n",
       "count          1470.0      1470.000000       1470.000000  1470.000000   \n",
       "mean              1.0      1024.865306          2.721769    65.891156   \n",
       "std               0.0       602.024335          1.093082    20.329428   \n",
       "min               1.0         1.000000          1.000000    30.000000   \n",
       "25%               1.0       491.250000          2.000000    48.000000   \n",
       "50%               1.0      1020.500000          3.000000    66.000000   \n",
       "75%               1.0      1555.750000          4.000000    83.750000   \n",
       "max               1.0      2068.000000          4.000000   100.000000   \n",
       "\n",
       "       job_involvement    job_level  ...  relationship_satisfaction  \\\n",
       "count      1470.000000  1470.000000  ...                1470.000000   \n",
       "mean          2.729932     2.063946  ...                   2.712245   \n",
       "std           0.711561     1.106940  ...                   1.081209   \n",
       "min           1.000000     1.000000  ...                   1.000000   \n",
       "25%           2.000000     1.000000  ...                   2.000000   \n",
       "50%           3.000000     2.000000  ...                   3.000000   \n",
       "75%           3.000000     3.000000  ...                   4.000000   \n",
       "max           4.000000     5.000000  ...                   4.000000   \n",
       "\n",
       "       standard_hours  stock_option_level  working_years  training_last_year  \\\n",
       "count          1470.0         1470.000000    1470.000000         1470.000000   \n",
       "mean             80.0            0.793878      11.279592            2.799320   \n",
       "std               0.0            0.852077       7.780782            1.289271   \n",
       "min              80.0            0.000000       0.000000            0.000000   \n",
       "25%              80.0            0.000000       6.000000            2.000000   \n",
       "50%              80.0            1.000000      10.000000            3.000000   \n",
       "75%              80.0            1.000000      15.000000            3.000000   \n",
       "max              80.0            3.000000      40.000000            6.000000   \n",
       "\n",
       "       work_life_balance  years_at_company  years_in_current_role  \\\n",
       "count        1470.000000       1470.000000            1470.000000   \n",
       "mean            2.761224          7.008163               4.229252   \n",
       "std             0.706476          6.126525               3.623137   \n",
       "min             1.000000          0.000000               0.000000   \n",
       "25%             2.000000          3.000000               2.000000   \n",
       "50%             3.000000          5.000000               3.000000   \n",
       "75%             3.000000          9.000000               7.000000   \n",
       "max             4.000000         40.000000              18.000000   \n",
       "\n",
       "       years_since_promotion  years_with_current_manager  \n",
       "count            1470.000000                 1470.000000  \n",
       "mean                2.187755                    4.123129  \n",
       "std                 3.222430                    3.568136  \n",
       "min                 0.000000                    0.000000  \n",
       "25%                 0.000000                    2.000000  \n",
       "50%                 1.000000                    3.000000  \n",
       "75%                 3.000000                    7.000000  \n",
       "max                15.000000                   17.000000  \n",
       "\n",
       "[8 rows x 26 columns]"
      ]
     },
     "execution_count": 6,
     "metadata": {},
     "output_type": "execute_result"
    }
   ],
   "source": [
    "df.describe()"
   ]
  },
  {
   "cell_type": "code",
   "execution_count": 7,
   "metadata": {},
   "outputs": [],
   "source": [
    "df['over_18'].describe()\n",
    "\n",
    "# All employees are over 18, we can drop his column\n",
    "\n",
    "df = df.drop('over_18', axis=1)\n"
   ]
  },
  {
   "cell_type": "markdown",
   "metadata": {},
   "source": [
    "### Dataset info\n",
    "\n",
    "* age: Minimum age is 18, mean of 37 and maximum of 60\n",
    "* env_satisfaction: mean of 2.7 with a maximum of 4. (What was the scale?)\n",
    "* standard_hours: All employees are working 80 hours \n",
    "* working_years: mean 11,2 working years, maximum of 40. 7.7 standard deviation, possible outiers increasing the mean\n",
    "* years_at_company: mean of 7, but standard deviation of 6. 9 in 3rd percentile, 40 in the 4th. Outliers towards the end\n",
    "* years_in_current_role: mean of 4 years in the current role, but 3.6 of stanradr deviation. The 2nd percentile is 3 years\n"
   ]
  },
  {
   "cell_type": "markdown",
   "metadata": {},
   "source": [
    "## EDA"
   ]
  },
  {
   "cell_type": "markdown",
   "metadata": {},
   "source": [
    "**1. Attrition Analysis**\n",
    "- Age: Group employees by age and calculate the attrition rate. This will help you understand if certain age groups are more likely to leave.\n",
    "- Department: Analyze attrition rates across different departments to identify which departments have higher turnover rates.\n",
    "- Job Role: Investigate which job roles have the highest attrition rates to identify potentially problematic positions.\n",
    "- Distance From Home: Assess if employees living further away from the office are more likely to leave.\n",
    "- Job Satisfaction: Analyze how job satisfaction (from the JobSatisfaction column) correlates with attrition. Low satisfaction scores might be a predictor of attrition.\n",
    "- Environment Satisfaction: Similarly, see if EnvironmentSatisfaction affects attrition rates.\n",
    "- Monthly Income: Determine if there’s a relationship between an employee’s income and their likelihood to leave.\n",
    "*Salary Hike vs. Attrition: Analyze whether employees who received higher salary hikes (PercentSalaryHike) are less likely to leave.*\n",
    "- Work-Life Balance: Explore whether employees with poor work-life balance scores (WorkLifeBalance) are more likely to leave.\n",
    "- OverTime: Investigate if employees working overtime (OverTime) are more prone to attrition, possibly due to burnout.\n",
    "- Performance Rating: Analyze the relationship between performance ratings and attrition to see if high or low performers are more likely to leave.\n",
    "- Gender and Attrition: Compare attrition rates between genders to see if there are any significant differences.\n",
    "\n",
    "\n",
    "- Promotion History: See if the time since the last promotion (YearsSinceLastPromotion) affects the likelihood of an employee leaving.\n",
    "- Years in Current Role vs. Attrition: Analyze if employees who have been in the same role for a long time are more likely to leave.\n",
    "- Job Involvement vs. Attrition: Analyze if employees with lower job involvement scores are more likely to leave.\n",
    "\n",
    "## 10. Comprehensive Predictive Modeling\n",
    "Attrition Prediction: Use all relevant columns to build a predictive model (e.g., using logistic regression, decision trees, or machine learning algorithms) to predict which employees are most likely to leave. This model can help HR departments proactively address potential attrition."
   ]
  },
  {
   "cell_type": "markdown",
   "metadata": {},
   "source": [
    "## Attrition Analysis\n",
    "\n",
    "*We currently lack information on the specific reasons for employee terminations and exits, so the recommendations provided may not apply to every situation. Conducting further research, such as exit interviews, could be beneficial in understanding the conditions and challenges the company faces in retaining talent.*"
   ]
  },
  {
   "cell_type": "code",
   "execution_count": 8,
   "metadata": {},
   "outputs": [
    {
     "data": {
      "text/plain": [
       "attrition\n",
       "No     1233\n",
       "Yes     237\n",
       "Name: count, dtype: int64"
      ]
     },
     "execution_count": 8,
     "metadata": {},
     "output_type": "execute_result"
    }
   ],
   "source": [
    "# How many employees have left the company?\n",
    "\n",
    "df['attrition'].value_counts()"
   ]
  },
  {
   "cell_type": "code",
   "execution_count": 9,
   "metadata": {},
   "outputs": [],
   "source": [
    "# Total employees: 1470\n",
    "# Employees in the company: 1233\n",
    "# Employees who left: 237"
   ]
  },
  {
   "cell_type": "code",
   "execution_count": 10,
   "metadata": {},
   "outputs": [
    {
     "data": {
      "text/html": [
       "<div>\n",
       "<style scoped>\n",
       "    .dataframe tbody tr th:only-of-type {\n",
       "        vertical-align: middle;\n",
       "    }\n",
       "\n",
       "    .dataframe tbody tr th {\n",
       "        vertical-align: top;\n",
       "    }\n",
       "\n",
       "    .dataframe thead th {\n",
       "        text-align: right;\n",
       "    }\n",
       "</style>\n",
       "<table border=\"1\" class=\"dataframe\">\n",
       "  <thead>\n",
       "    <tr style=\"text-align: right;\">\n",
       "      <th></th>\n",
       "      <th>age</th>\n",
       "      <th>attrition</th>\n",
       "      <th>travel</th>\n",
       "      <th>dailyrate</th>\n",
       "      <th>department</th>\n",
       "      <th>distance_from_home</th>\n",
       "      <th>education</th>\n",
       "      <th>field</th>\n",
       "      <th>employee_count</th>\n",
       "      <th>employee_number</th>\n",
       "      <th>...</th>\n",
       "      <th>relationship_satisfaction</th>\n",
       "      <th>standard_hours</th>\n",
       "      <th>stock_option_level</th>\n",
       "      <th>working_years</th>\n",
       "      <th>training_last_year</th>\n",
       "      <th>work_life_balance</th>\n",
       "      <th>years_at_company</th>\n",
       "      <th>years_in_current_role</th>\n",
       "      <th>years_since_promotion</th>\n",
       "      <th>years_with_current_manager</th>\n",
       "    </tr>\n",
       "  </thead>\n",
       "  <tbody>\n",
       "    <tr>\n",
       "      <th>0</th>\n",
       "      <td>41</td>\n",
       "      <td>Yes</td>\n",
       "      <td>Travel_Rarely</td>\n",
       "      <td>1102</td>\n",
       "      <td>Sales</td>\n",
       "      <td>1</td>\n",
       "      <td>2</td>\n",
       "      <td>Life Sciences</td>\n",
       "      <td>1</td>\n",
       "      <td>1</td>\n",
       "      <td>...</td>\n",
       "      <td>1</td>\n",
       "      <td>80</td>\n",
       "      <td>0</td>\n",
       "      <td>8</td>\n",
       "      <td>0</td>\n",
       "      <td>1</td>\n",
       "      <td>6</td>\n",
       "      <td>4</td>\n",
       "      <td>0</td>\n",
       "      <td>5</td>\n",
       "    </tr>\n",
       "    <tr>\n",
       "      <th>2</th>\n",
       "      <td>37</td>\n",
       "      <td>Yes</td>\n",
       "      <td>Travel_Rarely</td>\n",
       "      <td>1373</td>\n",
       "      <td>Research &amp; Development</td>\n",
       "      <td>2</td>\n",
       "      <td>2</td>\n",
       "      <td>Other</td>\n",
       "      <td>1</td>\n",
       "      <td>4</td>\n",
       "      <td>...</td>\n",
       "      <td>2</td>\n",
       "      <td>80</td>\n",
       "      <td>0</td>\n",
       "      <td>7</td>\n",
       "      <td>3</td>\n",
       "      <td>3</td>\n",
       "      <td>0</td>\n",
       "      <td>0</td>\n",
       "      <td>0</td>\n",
       "      <td>0</td>\n",
       "    </tr>\n",
       "    <tr>\n",
       "      <th>14</th>\n",
       "      <td>28</td>\n",
       "      <td>Yes</td>\n",
       "      <td>Travel_Rarely</td>\n",
       "      <td>103</td>\n",
       "      <td>Research &amp; Development</td>\n",
       "      <td>24</td>\n",
       "      <td>3</td>\n",
       "      <td>Life Sciences</td>\n",
       "      <td>1</td>\n",
       "      <td>19</td>\n",
       "      <td>...</td>\n",
       "      <td>2</td>\n",
       "      <td>80</td>\n",
       "      <td>0</td>\n",
       "      <td>6</td>\n",
       "      <td>4</td>\n",
       "      <td>3</td>\n",
       "      <td>4</td>\n",
       "      <td>2</td>\n",
       "      <td>0</td>\n",
       "      <td>3</td>\n",
       "    </tr>\n",
       "    <tr>\n",
       "      <th>21</th>\n",
       "      <td>36</td>\n",
       "      <td>Yes</td>\n",
       "      <td>Travel_Rarely</td>\n",
       "      <td>1218</td>\n",
       "      <td>Sales</td>\n",
       "      <td>9</td>\n",
       "      <td>4</td>\n",
       "      <td>Life Sciences</td>\n",
       "      <td>1</td>\n",
       "      <td>27</td>\n",
       "      <td>...</td>\n",
       "      <td>2</td>\n",
       "      <td>80</td>\n",
       "      <td>0</td>\n",
       "      <td>10</td>\n",
       "      <td>4</td>\n",
       "      <td>3</td>\n",
       "      <td>5</td>\n",
       "      <td>3</td>\n",
       "      <td>0</td>\n",
       "      <td>3</td>\n",
       "    </tr>\n",
       "    <tr>\n",
       "      <th>24</th>\n",
       "      <td>34</td>\n",
       "      <td>Yes</td>\n",
       "      <td>Travel_Rarely</td>\n",
       "      <td>699</td>\n",
       "      <td>Research &amp; Development</td>\n",
       "      <td>6</td>\n",
       "      <td>1</td>\n",
       "      <td>Medical</td>\n",
       "      <td>1</td>\n",
       "      <td>31</td>\n",
       "      <td>...</td>\n",
       "      <td>3</td>\n",
       "      <td>80</td>\n",
       "      <td>0</td>\n",
       "      <td>8</td>\n",
       "      <td>2</td>\n",
       "      <td>3</td>\n",
       "      <td>4</td>\n",
       "      <td>2</td>\n",
       "      <td>1</td>\n",
       "      <td>3</td>\n",
       "    </tr>\n",
       "  </tbody>\n",
       "</table>\n",
       "<p>5 rows × 34 columns</p>\n",
       "</div>"
      ],
      "text/plain": [
       "    age attrition         travel  dailyrate              department  \\\n",
       "0    41       Yes  Travel_Rarely       1102                   Sales   \n",
       "2    37       Yes  Travel_Rarely       1373  Research & Development   \n",
       "14   28       Yes  Travel_Rarely        103  Research & Development   \n",
       "21   36       Yes  Travel_Rarely       1218                   Sales   \n",
       "24   34       Yes  Travel_Rarely        699  Research & Development   \n",
       "\n",
       "    distance_from_home  education          field  employee_count  \\\n",
       "0                    1          2  Life Sciences               1   \n",
       "2                    2          2          Other               1   \n",
       "14                  24          3  Life Sciences               1   \n",
       "21                   9          4  Life Sciences               1   \n",
       "24                   6          1        Medical               1   \n",
       "\n",
       "    employee_number  ...  relationship_satisfaction standard_hours  \\\n",
       "0                 1  ...                          1             80   \n",
       "2                 4  ...                          2             80   \n",
       "14               19  ...                          2             80   \n",
       "21               27  ...                          2             80   \n",
       "24               31  ...                          3             80   \n",
       "\n",
       "    stock_option_level  working_years  training_last_year work_life_balance  \\\n",
       "0                    0              8                   0                 1   \n",
       "2                    0              7                   3                 3   \n",
       "14                   0              6                   4                 3   \n",
       "21                   0             10                   4                 3   \n",
       "24                   0              8                   2                 3   \n",
       "\n",
       "    years_at_company years_in_current_role  years_since_promotion  \\\n",
       "0                  6                     4                      0   \n",
       "2                  0                     0                      0   \n",
       "14                 4                     2                      0   \n",
       "21                 5                     3                      0   \n",
       "24                 4                     2                      1   \n",
       "\n",
       "    years_with_current_manager  \n",
       "0                            5  \n",
       "2                            0  \n",
       "14                           3  \n",
       "21                           3  \n",
       "24                           3  \n",
       "\n",
       "[5 rows x 34 columns]"
      ]
     },
     "execution_count": 10,
     "metadata": {},
     "output_type": "execute_result"
    }
   ],
   "source": [
    "#Employees who left\n",
    "\n",
    "out = df[df['attrition'] == 'Yes']\n",
    "out.head(5)"
   ]
  },
  {
   "cell_type": "code",
   "execution_count": 11,
   "metadata": {},
   "outputs": [
    {
     "data": {
      "text/html": [
       "<div>\n",
       "<style scoped>\n",
       "    .dataframe tbody tr th:only-of-type {\n",
       "        vertical-align: middle;\n",
       "    }\n",
       "\n",
       "    .dataframe tbody tr th {\n",
       "        vertical-align: top;\n",
       "    }\n",
       "\n",
       "    .dataframe thead th {\n",
       "        text-align: right;\n",
       "    }\n",
       "</style>\n",
       "<table border=\"1\" class=\"dataframe\">\n",
       "  <thead>\n",
       "    <tr style=\"text-align: right;\">\n",
       "      <th></th>\n",
       "      <th>age</th>\n",
       "      <th>attrition</th>\n",
       "      <th>travel</th>\n",
       "      <th>dailyrate</th>\n",
       "      <th>department</th>\n",
       "      <th>distance_from_home</th>\n",
       "      <th>education</th>\n",
       "      <th>field</th>\n",
       "      <th>employee_count</th>\n",
       "      <th>employee_number</th>\n",
       "      <th>...</th>\n",
       "      <th>relationship_satisfaction</th>\n",
       "      <th>standard_hours</th>\n",
       "      <th>stock_option_level</th>\n",
       "      <th>working_years</th>\n",
       "      <th>training_last_year</th>\n",
       "      <th>work_life_balance</th>\n",
       "      <th>years_at_company</th>\n",
       "      <th>years_in_current_role</th>\n",
       "      <th>years_since_promotion</th>\n",
       "      <th>years_with_current_manager</th>\n",
       "    </tr>\n",
       "  </thead>\n",
       "  <tbody>\n",
       "    <tr>\n",
       "      <th>1</th>\n",
       "      <td>49</td>\n",
       "      <td>No</td>\n",
       "      <td>Travel_Frequently</td>\n",
       "      <td>279</td>\n",
       "      <td>Research &amp; Development</td>\n",
       "      <td>8</td>\n",
       "      <td>1</td>\n",
       "      <td>Life Sciences</td>\n",
       "      <td>1</td>\n",
       "      <td>2</td>\n",
       "      <td>...</td>\n",
       "      <td>4</td>\n",
       "      <td>80</td>\n",
       "      <td>1</td>\n",
       "      <td>10</td>\n",
       "      <td>3</td>\n",
       "      <td>3</td>\n",
       "      <td>10</td>\n",
       "      <td>7</td>\n",
       "      <td>1</td>\n",
       "      <td>7</td>\n",
       "    </tr>\n",
       "    <tr>\n",
       "      <th>3</th>\n",
       "      <td>33</td>\n",
       "      <td>No</td>\n",
       "      <td>Travel_Frequently</td>\n",
       "      <td>1392</td>\n",
       "      <td>Research &amp; Development</td>\n",
       "      <td>3</td>\n",
       "      <td>4</td>\n",
       "      <td>Life Sciences</td>\n",
       "      <td>1</td>\n",
       "      <td>5</td>\n",
       "      <td>...</td>\n",
       "      <td>3</td>\n",
       "      <td>80</td>\n",
       "      <td>0</td>\n",
       "      <td>8</td>\n",
       "      <td>3</td>\n",
       "      <td>3</td>\n",
       "      <td>8</td>\n",
       "      <td>7</td>\n",
       "      <td>3</td>\n",
       "      <td>0</td>\n",
       "    </tr>\n",
       "    <tr>\n",
       "      <th>4</th>\n",
       "      <td>27</td>\n",
       "      <td>No</td>\n",
       "      <td>Travel_Rarely</td>\n",
       "      <td>591</td>\n",
       "      <td>Research &amp; Development</td>\n",
       "      <td>2</td>\n",
       "      <td>1</td>\n",
       "      <td>Medical</td>\n",
       "      <td>1</td>\n",
       "      <td>7</td>\n",
       "      <td>...</td>\n",
       "      <td>4</td>\n",
       "      <td>80</td>\n",
       "      <td>1</td>\n",
       "      <td>6</td>\n",
       "      <td>3</td>\n",
       "      <td>3</td>\n",
       "      <td>2</td>\n",
       "      <td>2</td>\n",
       "      <td>2</td>\n",
       "      <td>2</td>\n",
       "    </tr>\n",
       "    <tr>\n",
       "      <th>5</th>\n",
       "      <td>32</td>\n",
       "      <td>No</td>\n",
       "      <td>Travel_Frequently</td>\n",
       "      <td>1005</td>\n",
       "      <td>Research &amp; Development</td>\n",
       "      <td>2</td>\n",
       "      <td>2</td>\n",
       "      <td>Life Sciences</td>\n",
       "      <td>1</td>\n",
       "      <td>8</td>\n",
       "      <td>...</td>\n",
       "      <td>3</td>\n",
       "      <td>80</td>\n",
       "      <td>0</td>\n",
       "      <td>8</td>\n",
       "      <td>2</td>\n",
       "      <td>2</td>\n",
       "      <td>7</td>\n",
       "      <td>7</td>\n",
       "      <td>3</td>\n",
       "      <td>6</td>\n",
       "    </tr>\n",
       "    <tr>\n",
       "      <th>6</th>\n",
       "      <td>59</td>\n",
       "      <td>No</td>\n",
       "      <td>Travel_Rarely</td>\n",
       "      <td>1324</td>\n",
       "      <td>Research &amp; Development</td>\n",
       "      <td>3</td>\n",
       "      <td>3</td>\n",
       "      <td>Medical</td>\n",
       "      <td>1</td>\n",
       "      <td>10</td>\n",
       "      <td>...</td>\n",
       "      <td>1</td>\n",
       "      <td>80</td>\n",
       "      <td>3</td>\n",
       "      <td>12</td>\n",
       "      <td>3</td>\n",
       "      <td>2</td>\n",
       "      <td>1</td>\n",
       "      <td>0</td>\n",
       "      <td>0</td>\n",
       "      <td>0</td>\n",
       "    </tr>\n",
       "  </tbody>\n",
       "</table>\n",
       "<p>5 rows × 34 columns</p>\n",
       "</div>"
      ],
      "text/plain": [
       "   age attrition             travel  dailyrate              department  \\\n",
       "1   49        No  Travel_Frequently        279  Research & Development   \n",
       "3   33        No  Travel_Frequently       1392  Research & Development   \n",
       "4   27        No      Travel_Rarely        591  Research & Development   \n",
       "5   32        No  Travel_Frequently       1005  Research & Development   \n",
       "6   59        No      Travel_Rarely       1324  Research & Development   \n",
       "\n",
       "   distance_from_home  education          field  employee_count  \\\n",
       "1                   8          1  Life Sciences               1   \n",
       "3                   3          4  Life Sciences               1   \n",
       "4                   2          1        Medical               1   \n",
       "5                   2          2  Life Sciences               1   \n",
       "6                   3          3        Medical               1   \n",
       "\n",
       "   employee_number  ...  relationship_satisfaction standard_hours  \\\n",
       "1                2  ...                          4             80   \n",
       "3                5  ...                          3             80   \n",
       "4                7  ...                          4             80   \n",
       "5                8  ...                          3             80   \n",
       "6               10  ...                          1             80   \n",
       "\n",
       "   stock_option_level  working_years  training_last_year work_life_balance  \\\n",
       "1                   1             10                   3                 3   \n",
       "3                   0              8                   3                 3   \n",
       "4                   1              6                   3                 3   \n",
       "5                   0              8                   2                 2   \n",
       "6                   3             12                   3                 2   \n",
       "\n",
       "   years_at_company years_in_current_role  years_since_promotion  \\\n",
       "1                10                     7                      1   \n",
       "3                 8                     7                      3   \n",
       "4                 2                     2                      2   \n",
       "5                 7                     7                      3   \n",
       "6                 1                     0                      0   \n",
       "\n",
       "   years_with_current_manager  \n",
       "1                           7  \n",
       "3                           0  \n",
       "4                           2  \n",
       "5                           6  \n",
       "6                           0  \n",
       "\n",
       "[5 rows x 34 columns]"
      ]
     },
     "execution_count": 11,
     "metadata": {},
     "output_type": "execute_result"
    }
   ],
   "source": [
    "# Employees in the company\n",
    "\n",
    "in_company = df[df['attrition'] == 'No']\n",
    "in_company.head(5)"
   ]
  },
  {
   "cell_type": "markdown",
   "metadata": {},
   "source": [
    "### Attrition by age"
   ]
  },
  {
   "cell_type": "code",
   "execution_count": 12,
   "metadata": {},
   "outputs": [
    {
     "data": {
      "text/plain": [
       "age\n",
       "35    78\n",
       "34    77\n",
       "36    69\n",
       "31    69\n",
       "29    68\n",
       "32    61\n",
       "30    60\n",
       "38    58\n",
       "33    58\n",
       "40    57\n",
       "37    50\n",
       "27    48\n",
       "28    48\n",
       "42    46\n",
       "39    42\n",
       "45    41\n",
       "41    40\n",
       "26    39\n",
       "44    33\n",
       "46    33\n",
       "43    32\n",
       "50    30\n",
       "24    26\n",
       "25    26\n",
       "47    24\n",
       "49    24\n",
       "55    22\n",
       "53    19\n",
       "48    19\n",
       "51    19\n",
       "52    18\n",
       "54    18\n",
       "22    16\n",
       "56    14\n",
       "23    14\n",
       "58    14\n",
       "21    13\n",
       "20    11\n",
       "59    10\n",
       "19     9\n",
       "18     8\n",
       "60     5\n",
       "57     4\n",
       "dtype: int64"
      ]
     },
     "execution_count": 12,
     "metadata": {},
     "output_type": "execute_result"
    }
   ],
   "source": [
    "# Grouping employees' age\n",
    "age_total = df.groupby('age').size().sort_values(ascending=False)\n",
    "age_total"
   ]
  },
  {
   "cell_type": "code",
   "execution_count": 13,
   "metadata": {},
   "outputs": [
    {
     "data": {
      "image/png": "[encoded data removed]",
      "text/plain": [
       "<Figure size 640x480 with 1 Axes>"
      ]
     },
     "metadata": {},
     "output_type": "display_data"
    }
   ],
   "source": [
    "# All employees' age distribution\n",
    "\n",
    "df['age'].plot(kind='hist', \n",
    "                    xlabel='Age', \n",
    "                    ylabel='Frequency', \n",
    "                    bins=30,\n",
    "                    color='skyblue',\n",
    "                    edgecolor='black'\n",
    "                    );"
   ]
  },
  {
   "cell_type": "code",
   "execution_count": 14,
   "metadata": {},
   "outputs": [
    {
     "data": {
      "text/plain": [
       "age\n",
       "31    18\n",
       "29    18\n",
       "28    14\n",
       "33    12\n",
       "26    12\n",
       "32    11\n",
       "35    10\n",
       "30     9\n",
       "34     9\n",
       "24     7\n",
       "19     6\n",
       "36     6\n",
       "37     6\n",
       "39     6\n",
       "41     6\n",
       "25     6\n",
       "44     6\n",
       "21     6\n",
       "20     6\n",
       "50     5\n",
       "40     5\n",
       "58     5\n",
       "22     5\n",
       "18     4\n",
       "23     4\n",
       "46     4\n",
       "56     3\n",
       "55     3\n",
       "47     3\n",
       "27     3\n",
       "52     3\n",
       "51     2\n",
       "53     2\n",
       "38     2\n",
       "49     2\n",
       "45     2\n",
       "43     2\n",
       "42     2\n",
       "48     2\n",
       "dtype: int64"
      ]
     },
     "execution_count": 14,
     "metadata": {},
     "output_type": "execute_result"
    }
   ],
   "source": [
    "# Grouping employees that left age\n",
    "age_out = out.groupby('age').size().sort_values(ascending=False)\n",
    "age_out"
   ]
  },
  {
   "cell_type": "code",
   "execution_count": 15,
   "metadata": {},
   "outputs": [
    {
     "data": {
      "image/png": "[encoded data removed]",
      "text/plain": [
       "<Figure size 640x480 with 1 Axes>"
      ]
     },
     "metadata": {},
     "output_type": "display_data"
    }
   ],
   "source": [
    "# Employees that left age distribution\n",
    "\n",
    "out['age'].plot(kind='hist', \n",
    "                    xlabel='Age', \n",
    "                    ylabel='Frequency', \n",
    "                    bins=30,\n",
    "                    color='skyblue',\n",
    "                    edgecolor='black'\n",
    "                    );\n",
    "\n",
    "# 28-35 is the most frequent age ranges of employees who have left. "
   ]
  },
  {
   "cell_type": "code",
   "execution_count": 16,
   "metadata": {},
   "outputs": [
    {
     "data": {
      "image/png": "[encoded data removed]",
      "text/plain": [
       "<Figure size 1000x600 with 1 Axes>"
      ]
     },
     "metadata": {},
     "output_type": "display_data"
    }
   ],
   "source": [
    "# Histogram\n",
    "plt.figure(figsize=(10, 6))\n",
    "\n",
    "# All employees\n",
    "plt.hist(in_company['age'], bins=30, alpha=0.2, label='All', color='skyblue', edgecolor='black')\n",
    "\n",
    "# Employees who left\n",
    "plt.hist(out['age'], bins=30, alpha=0.5, label='Out', color='salmon', edgecolor='black')\n",
    "\n",
    "plt.title('Frequency Distribution of Age')\n",
    "plt.xlabel('Age')\n",
    "plt.ylabel('Frequency')\n",
    "plt.legend()\n",
    "plt.grid(False)\n",
    "plt.show()"
   ]
  },
  {
   "cell_type": "code",
   "execution_count": 17,
   "metadata": {},
   "outputs": [],
   "source": [
    "# Similar age distribution beetween employees in the company and employees who left. \n",
    "# However, there is a higher peak in the employees who left in between 30-32 years old which is not oberved in the total population."
   ]
  },
  {
   "cell_type": "code",
   "execution_count": 18,
   "metadata": {},
   "outputs": [
    {
     "data": {
      "text/plain": [
       "age\n",
       "19    66.666667\n",
       "20    54.545455\n",
       "18    50.000000\n",
       "21    46.153846\n",
       "58    35.714286\n",
       "22    31.250000\n",
       "26    30.769231\n",
       "28    29.166667\n",
       "23    28.571429\n",
       "24    26.923077\n",
       "29    26.470588\n",
       "31    26.086957\n",
       "25    23.076923\n",
       "56    21.428571\n",
       "33    20.689655\n",
       "44    18.181818\n",
       "32    18.032787\n",
       "52    16.666667\n",
       "50    16.666667\n",
       "30    15.000000\n",
       "41    15.000000\n",
       "39    14.285714\n",
       "55    13.636364\n",
       "35    12.820513\n",
       "47    12.500000\n",
       "46    12.121212\n",
       "37    12.000000\n",
       "34    11.688312\n",
       "51    10.526316\n",
       "53    10.526316\n",
       "48    10.526316\n",
       "40     8.771930\n",
       "36     8.695652\n",
       "49     8.333333\n",
       "43     6.250000\n",
       "27     6.250000\n",
       "45     4.878049\n",
       "42     4.347826\n",
       "38     3.448276\n",
       "54     0.000000\n",
       "57     0.000000\n",
       "59     0.000000\n",
       "60     0.000000\n",
       "dtype: float64"
      ]
     },
     "execution_count": 18,
     "metadata": {},
     "output_type": "execute_result"
    }
   ],
   "source": [
    "# Attrition rate by age\n",
    "attrition_rate_age = (age_out/age_total) * 100\n",
    "\n",
    "# Fill NA and sort\n",
    "attrition_rate_age = attrition_rate_age.fillna(0).sort_values(ascending=False)\n",
    "attrition_rate_age\n"
   ]
  },
  {
   "cell_type": "code",
   "execution_count": 19,
   "metadata": {},
   "outputs": [
    {
     "data": {
      "image/png": "[encoded data removed]",
      "text/plain": [
       "<Figure size 1000x600 with 1 Axes>"
      ]
     },
     "metadata": {},
     "output_type": "display_data"
    }
   ],
   "source": [
    "# Bar plot\n",
    "attrition_rate_age.plot(kind='bar', color='skyblue', figsize=(10, 6))\n",
    "plt.title('Attrition Rate by Age')\n",
    "plt.xlabel('Age')\n",
    "plt.ylabel('Attrition Rate (%)')\n",
    "plt.show()"
   ]
  },
  {
   "cell_type": "markdown",
   "metadata": {},
   "source": [
    "**Analysis**\n",
    "\n",
    "The most common age range among employees in the company is 28-35 years. This age group also has the highest number of employees who have left the company. However, when looking at the attrition rate specifically, **younger employees aged 19-21 are the most likely to leave**, followed by employees who are 58 years old.\n",
    "\n",
    "**Possible recommendiations:**\n",
    "\n",
    "For junior employees, a high attrition rate  might be due to lack of career development opportunities. To help retain this group, the company might want to consider looking into mentorship programs, offer clear career paths and providing engaging training opportunities.\n",
    "\n",
    "For senior employees, the higher attrition rate might indicate early retirements or dissatsifaction. Flexible retirmenet plans could be considered, as well as offeirng part-time roles or leveraging their expertise in mentorship programs.\n"
   ]
  },
  {
   "cell_type": "markdown",
   "metadata": {},
   "source": [
    "### Attrition by department"
   ]
  },
  {
   "cell_type": "code",
   "execution_count": 20,
   "metadata": {},
   "outputs": [
    {
     "data": {
      "text/plain": [
       "department\n",
       "Research & Development    961\n",
       "Sales                     446\n",
       "Human Resources            63\n",
       "dtype: int64"
      ]
     },
     "execution_count": 20,
     "metadata": {},
     "output_type": "execute_result"
    }
   ],
   "source": [
    "# What departments are there in the company and how many employees in each? \n",
    "\n",
    "dep_total = df.groupby('department').size().sort_values(ascending=False)\n",
    "dep_total"
   ]
  },
  {
   "cell_type": "code",
   "execution_count": 21,
   "metadata": {},
   "outputs": [
    {
     "data": {
      "text/plain": [
       "department\n",
       "Research & Development    133\n",
       "Sales                      92\n",
       "Human Resources            12\n",
       "dtype: int64"
      ]
     },
     "execution_count": 21,
     "metadata": {},
     "output_type": "execute_result"
    }
   ],
   "source": [
    "# Department and employees that left\n",
    "dep_out = out.groupby('department').size().sort_values(ascending=False)\n",
    "dep_out"
   ]
  },
  {
   "cell_type": "code",
   "execution_count": 22,
   "metadata": {},
   "outputs": [
    {
     "data": {
      "text/plain": [
       "department\n",
       "Sales                     20.627803\n",
       "Human Resources           19.047619\n",
       "Research & Development    13.839750\n",
       "dtype: float64"
      ]
     },
     "execution_count": 22,
     "metadata": {},
     "output_type": "execute_result"
    }
   ],
   "source": [
    "# Attrition rate by department\n",
    "attrition_rate_dep = (dep_out / dep_total)*100\n",
    "\n",
    "# Fill NA and sort\n",
    "attrition_rate_dep = attrition_rate_dep.fillna(0).sort_values(ascending=False)\n",
    "attrition_rate_dep"
   ]
  },
  {
   "cell_type": "markdown",
   "metadata": {},
   "source": [
    "**Analysis**\n",
    "\n",
    "Research and Development is the department with the highest number of employees, followed by Sales and Human Resources. As expected, R&D also has the highest number of employees who have left. However, when looking at the attrition rate, **employees in Sales and Human Resources are more likely to leave**, with attrition rates of 20.6% and 19%, respectively, compared to 13.8% in R&D.\n",
    "\n",
    "It may be worthwhile to investigate the conditions, career development opportunities, and other factors that might be impacting these departments differently."
   ]
  },
  {
   "cell_type": "markdown",
   "metadata": {},
   "source": [
    "### Attrition by job role"
   ]
  },
  {
   "cell_type": "code",
   "execution_count": 23,
   "metadata": {},
   "outputs": [
    {
     "data": {
      "text/plain": [
       "job_role\n",
       "Sales Executive              326\n",
       "Research Scientist           292\n",
       "Laboratory Technician        259\n",
       "Manufacturing Director       145\n",
       "Healthcare Representative    131\n",
       "Manager                      102\n",
       "Sales Representative          83\n",
       "Research Director             80\n",
       "Human Resources               52\n",
       "dtype: int64"
      ]
     },
     "execution_count": 23,
     "metadata": {},
     "output_type": "execute_result"
    }
   ],
   "source": [
    "# What roles exist at the company and how many employees in each? \n",
    "\n",
    "role_total = df.groupby('job_role').size().sort_values(ascending=False)\n",
    "role_total"
   ]
  },
  {
   "cell_type": "code",
   "execution_count": 24,
   "metadata": {},
   "outputs": [
    {
     "data": {
      "text/plain": [
       "job_role\n",
       "Laboratory Technician        62\n",
       "Sales Executive              57\n",
       "Research Scientist           47\n",
       "Sales Representative         33\n",
       "Human Resources              12\n",
       "Manufacturing Director       10\n",
       "Healthcare Representative     9\n",
       "Manager                       5\n",
       "Research Director             2\n",
       "dtype: int64"
      ]
     },
     "execution_count": 24,
     "metadata": {},
     "output_type": "execute_result"
    }
   ],
   "source": [
    "# What roles did employees who have left have?\n",
    "\n",
    "role_out = out.groupby('job_role').size().sort_values(ascending=False)\n",
    "role_out"
   ]
  },
  {
   "cell_type": "code",
   "execution_count": 25,
   "metadata": {},
   "outputs": [
    {
     "data": {
      "text/plain": [
       "job_role\n",
       "Sales Representative         39.759036\n",
       "Laboratory Technician        23.938224\n",
       "Human Resources              23.076923\n",
       "Sales Executive              17.484663\n",
       "Research Scientist           16.095890\n",
       "Manufacturing Director        6.896552\n",
       "Healthcare Representative     6.870229\n",
       "Manager                       4.901961\n",
       "Research Director             2.500000\n",
       "dtype: float64"
      ]
     },
     "execution_count": 25,
     "metadata": {},
     "output_type": "execute_result"
    }
   ],
   "source": [
    "# Attrition rate by job role\n",
    "attrition_rate_role = (role_out / role_total)*100\n",
    "\n",
    "# Fill NA and sort\n",
    "attrition_rate_role = attrition_rate_role.fillna(0).sort_values(ascending=False)\n",
    "attrition_rate_role"
   ]
  },
  {
   "cell_type": "markdown",
   "metadata": {},
   "source": [
    "**Analysis**\n",
    "\n",
    "Sales Representatives have the highest attrition rate at 39.8%, and Sales Executives follow with a rate of 17.5%. As observed before, the Sales department also has one of the highest attrition rates overall (20.6%). **This suggests that roles within Sales are particularly susceptible to high turnover.**\n",
    "\n",
    "The Human Resources role has a notable attrition rate of 23.1%.\n",
    "\n",
    "Despite having the largest number of employees, R&D has a lower attrition rate (13.8%) compared to Sales and HR. However, the moderate turnover in specific roles like Laboratory Technicians indicates potential dissatisfaction or a lack of advancement opportunities within this position."
   ]
  },
  {
   "cell_type": "code",
   "execution_count": 26,
   "metadata": {},
   "outputs": [
    {
     "data": {
      "text/plain": [
       "department\n",
       "Human Resources                                  [Human Resources, Manager]\n",
       "Research & Development    [Research Scientist, Laboratory Technician, Ma...\n",
       "Sales                      [Sales Executive, Manager, Sales Representative]\n",
       "Name: job_role, dtype: object"
      ]
     },
     "execution_count": 26,
     "metadata": {},
     "output_type": "execute_result"
    }
   ],
   "source": [
    "# What roles are there in each deparment?\n",
    "\n",
    "roles_per_department = df.groupby('department')['job_role'].unique()\n",
    "roles_per_department"
   ]
  },
  {
   "cell_type": "code",
   "execution_count": 27,
   "metadata": {},
   "outputs": [
    {
     "data": {
      "text/plain": [
       "array(['Research Scientist', 'Laboratory Technician',\n",
       "       'Manufacturing Director', 'Healthcare Representative',\n",
       "       'Research Director', 'Manager'], dtype=object)"
      ]
     },
     "execution_count": 27,
     "metadata": {},
     "output_type": "execute_result"
    }
   ],
   "source": [
    "# Roles in R&D department\n",
    "df_rd = df[df['department'] == 'Research & Development']\n",
    "roles_rd = df_rd['job_role'].unique()\n",
    "roles_rd"
   ]
  },
  {
   "cell_type": "markdown",
   "metadata": {},
   "source": [
    "### Attrition by distance from home"
   ]
  },
  {
   "cell_type": "code",
   "execution_count": 28,
   "metadata": {},
   "outputs": [
    {
     "data": {
      "text/plain": [
       "count    1470.000000\n",
       "mean        9.192517\n",
       "std         8.106864\n",
       "min         1.000000\n",
       "25%         2.000000\n",
       "50%         7.000000\n",
       "75%        14.000000\n",
       "max        29.000000\n",
       "Name: distance_from_home, dtype: float64"
      ]
     },
     "execution_count": 28,
     "metadata": {},
     "output_type": "execute_result"
    }
   ],
   "source": [
    "# Distance from home data\n",
    "df['distance_from_home'].describe()"
   ]
  },
  {
   "cell_type": "code",
   "execution_count": 29,
   "metadata": {},
   "outputs": [
    {
     "data": {
      "text/plain": [
       "distance_from_home\n",
       "2     211\n",
       "1     208\n",
       "10     86\n",
       "9      85\n",
       "3      84\n",
       "dtype: int64"
      ]
     },
     "execution_count": 29,
     "metadata": {},
     "output_type": "execute_result"
    }
   ],
   "source": [
    "distance_total = df.groupby('distance_from_home').size().sort_values(ascending=False)\n",
    "distance_total\n",
    "distance_total.head(5)"
   ]
  },
  {
   "cell_type": "code",
   "execution_count": 30,
   "metadata": {},
   "outputs": [
    {
     "data": {
      "text/plain": [
       "distance_from_home\n",
       "2     28\n",
       "1     26\n",
       "9     18\n",
       "3     14\n",
       "24    12\n",
       "dtype: int64"
      ]
     },
     "execution_count": 30,
     "metadata": {},
     "output_type": "execute_result"
    }
   ],
   "source": [
    "distance_out = out.groupby('distance_from_home').size().sort_values(ascending=False)\n",
    "distance_out.head(5)"
   ]
  },
  {
   "cell_type": "code",
   "execution_count": 31,
   "metadata": {},
   "outputs": [
    {
     "data": {
      "text/plain": [
       "distance_from_home\n",
       "24    42.857143\n",
       "13    31.578947\n",
       "22    31.578947\n",
       "12    30.000000\n",
       "27    25.000000\n",
       "dtype: float64"
      ]
     },
     "execution_count": 31,
     "metadata": {},
     "output_type": "execute_result"
    }
   ],
   "source": [
    "# Attrition rate by distance from home\n",
    "attrition_rate_distance = (distance_out / distance_total)*100\n",
    "\n",
    "# Fill NA and sort\n",
    "attrition_rate_distance = attrition_rate_distance.fillna(0).sort_values(ascending=False)\n",
    "attrition_rate_distance.head(5)"
   ]
  },
  {
   "cell_type": "code",
   "execution_count": 32,
   "metadata": {},
   "outputs": [
    {
     "data": {
      "image/png": "[encoded data removed]",
      "text/plain": [
       "<Figure size 1000x600 with 1 Axes>"
      ]
     },
     "metadata": {},
     "output_type": "display_data"
    }
   ],
   "source": [
    "# Plot histogram\n",
    "plt.figure(figsize=(10, 6))\n",
    "\n",
    "# All employees\n",
    "plt.hist(in_company['distance_from_home'], bins=30, alpha=0.3, label='All', color='skyblue', edgecolor='black')\n",
    "\n",
    "# Employees who left\n",
    "plt.hist(out['distance_from_home'], bins=30, alpha=0.5, label='Out', color='salmon', edgecolor='black')\n",
    "\n",
    "# Adding titles and labels\n",
    "plt.title('Frequency Distribution of Distance from Home')\n",
    "plt.xlabel('Distance from Home')\n",
    "plt.ylabel('Frequency')\n",
    "plt.legend()\n",
    "plt.grid(False)\n",
    "plt.show()"
   ]
  },
  {
   "cell_type": "code",
   "execution_count": 33,
   "metadata": {},
   "outputs": [
    {
     "name": "stderr",
     "output_type": "stream",
     "text": [
      "/var/folders/4n/v650pxtn7pl7c5rczqqv7nhc0000gn/T/ipykernel_11072/2053369135.py:4: FutureWarning: \n",
      "\n",
      "Passing `palette` without assigning `hue` is deprecated and will be removed in v0.14.0. Assign the `x` variable to `hue` and set `legend=False` for the same effect.\n",
      "\n",
      "  sns.boxplot(x='attrition', y='distance_from_home', data=df, palette='pastel' ,width=0.5)\n"
     ]
    },
    {
     "data": {
      "image/png": "[encoded data removed]",
      "text/plain": [
       "<Figure size 800x600 with 1 Axes>"
      ]
     },
     "metadata": {},
     "output_type": "display_data"
    }
   ],
   "source": [
    "# Boxplot\n",
    "sns.set(style='whitegrid')\n",
    "plt.figure(figsize=(8, 6))\n",
    "sns.boxplot(x='attrition', y='distance_from_home', data=df, palette='pastel' ,width=0.5)\n",
    "plt.title('Distance from Home by Attrition', fontsize=14)\n",
    "plt.xlabel('Attrition' ,fontsize=12)\n",
    "plt.ylabel('Distance from home', fontsize=12)\n",
    "plt.grid(True, linestyle='--', alpha=0.7)\n",
    "plt.show()"
   ]
  },
  {
   "cell_type": "markdown",
   "metadata": {},
   "source": [
    "**Analysis**\n",
    "\n",
    "The analysis of attrition rates reveals that employees with moderate to long commutes are more likely to leave the company. This trend is also evident in the boxplot, which shows a greater range of distances for employees who have left compared to those who remain and a slightly higher mean distance. \n",
    "\n",
    "**Possible recommendations**\n",
    "\n",
    "Employees who live at longer distances might be experiencing factors that increase their likelihood of leaving the company, such as cummiting fatigue and poorer work-life balance. **Flexible working policies and support programs** should be considered in orde to reduce the impact of commuting on employee saisfaction and retention and aim to imporve employees' work-life balance."
   ]
  },
  {
   "cell_type": "markdown",
   "metadata": {},
   "source": [
    "### Attrition by job, environment and reltionship satisfaction \n",
    "\n",
    "Assuming that the scale is 1 to 4 being 4 the highest rating"
   ]
  },
  {
   "cell_type": "code",
   "execution_count": 34,
   "metadata": {},
   "outputs": [
    {
     "data": {
      "text/plain": [
       "job_satisfaction\n",
       "4    459\n",
       "3    442\n",
       "1    289\n",
       "2    280\n",
       "Name: count, dtype: int64"
      ]
     },
     "execution_count": 34,
     "metadata": {},
     "output_type": "execute_result"
    }
   ],
   "source": [
    "# Job satisfaction - All employees\n",
    "job_sat = df['job_satisfaction'].value_counts()\n",
    "job_sat"
   ]
  },
  {
   "cell_type": "code",
   "execution_count": 35,
   "metadata": {},
   "outputs": [
    {
     "data": {
      "text/plain": [
       "job_satisfaction\n",
       "3    73\n",
       "1    66\n",
       "4    52\n",
       "2    46\n",
       "Name: count, dtype: int64"
      ]
     },
     "execution_count": 35,
     "metadata": {},
     "output_type": "execute_result"
    }
   ],
   "source": [
    "# Job satisfaction - Employees who left\n",
    "job_sat_out = out['job_satisfaction'].value_counts()\n",
    "job_sat_out"
   ]
  },
  {
   "cell_type": "code",
   "execution_count": 36,
   "metadata": {},
   "outputs": [
    {
     "data": {
      "text/plain": [
       "job_satisfaction\n",
       "1    22.837370\n",
       "2    16.428571\n",
       "3    16.515837\n",
       "4    11.328976\n",
       "Name: count, dtype: float64"
      ]
     },
     "execution_count": 36,
     "metadata": {},
     "output_type": "execute_result"
    }
   ],
   "source": [
    "# Attrition rate by job satisfaction\n",
    "attrition_rate_job_sat = (job_sat_out / job_sat)*100\n",
    "attrition_rate_job_sat"
   ]
  },
  {
   "cell_type": "markdown",
   "metadata": {},
   "source": [
    "**Analysis**\n",
    "\n",
    "Job satisfaction ratings of 3 and 4 are the most common among all employees. However, for those who have left the company, the most frequent ratings are 3 and 1, respectively. This indicates that a notable portion of departing employees had a moderate satisfaction (rating 3). Despite this, the attrition rate analysis shows that employees with lower job satisfaction are more likely to leave. This suggests that while not all departing employees are highly dissatisfied, lower job satisfaction generally increases the likelihood of leaving the company."
   ]
  },
  {
   "cell_type": "code",
   "execution_count": 37,
   "metadata": {},
   "outputs": [
    {
     "data": {
      "text/plain": [
       "env_satisfaction\n",
       "3    453\n",
       "4    446\n",
       "2    287\n",
       "1    284\n",
       "Name: count, dtype: int64"
      ]
     },
     "execution_count": 37,
     "metadata": {},
     "output_type": "execute_result"
    }
   ],
   "source": [
    "# Environment satisfaction - All employees\n",
    "env_sat = df['env_satisfaction'].value_counts()\n",
    "env_sat"
   ]
  },
  {
   "cell_type": "code",
   "execution_count": 38,
   "metadata": {},
   "outputs": [
    {
     "data": {
      "text/plain": [
       "env_satisfaction\n",
       "1    72\n",
       "3    62\n",
       "4    60\n",
       "2    43\n",
       "Name: count, dtype: int64"
      ]
     },
     "execution_count": 38,
     "metadata": {},
     "output_type": "execute_result"
    }
   ],
   "source": [
    "# Environment satisfaction - Employees who left\n",
    "env_sat_out = out['env_satisfaction'].value_counts()\n",
    "env_sat_out"
   ]
  },
  {
   "cell_type": "code",
   "execution_count": 39,
   "metadata": {},
   "outputs": [
    {
     "data": {
      "text/plain": [
       "env_satisfaction\n",
       "1    25.352113\n",
       "2    14.982578\n",
       "3    13.686534\n",
       "4    13.452915\n",
       "Name: count, dtype: float64"
      ]
     },
     "execution_count": 39,
     "metadata": {},
     "output_type": "execute_result"
    }
   ],
   "source": [
    "# Attrition rate by environment satisfaction\n",
    "attrition_rate_env_sat = (env_sat_out / env_sat)*100\n",
    "attrition_rate_env_sat"
   ]
  },
  {
   "cell_type": "markdown",
   "metadata": {},
   "source": [
    "**Analysis**\n",
    "\n",
    "The data reveals that employees with the lowest environmental satisfaction rating (1) have the highest likelihood of leaving the company, indicating that poor environmental satisfaction is a significant predictor of higher attrition rates. \n",
    "\n",
    "However, it's also important to note that out of the 237 employees who left, 122 had high environmental satisfaction ratings (3 and 4). This suggests that while low satisfaction strongly correlates with higher attrition, a substantial number of departing employees rated their work environment positively.This suggests that while environmental satisfaction is an important factor in employee turnover, it is not the sole determinant. Other factors may also play a critical role in influencing whether employees decide to leave."
   ]
  },
  {
   "cell_type": "code",
   "execution_count": 40,
   "metadata": {},
   "outputs": [
    {
     "data": {
      "text/plain": [
       "relationship_satisfaction\n",
       "3    459\n",
       "4    432\n",
       "2    303\n",
       "1    276\n",
       "Name: count, dtype: int64"
      ]
     },
     "execution_count": 40,
     "metadata": {},
     "output_type": "execute_result"
    }
   ],
   "source": [
    "#Relationship satisfaciton\n",
    "rel_sat = df['relationship_satisfaction'].value_counts()\n",
    "rel_sat"
   ]
  },
  {
   "cell_type": "code",
   "execution_count": 41,
   "metadata": {},
   "outputs": [
    {
     "data": {
      "text/plain": [
       "relationship_satisfaction\n",
       "3    71\n",
       "4    64\n",
       "1    57\n",
       "2    45\n",
       "Name: count, dtype: int64"
      ]
     },
     "execution_count": 41,
     "metadata": {},
     "output_type": "execute_result"
    }
   ],
   "source": [
    "rel_sat_out = out['relationship_satisfaction'].value_counts()\n",
    "rel_sat_out"
   ]
  },
  {
   "cell_type": "code",
   "execution_count": 42,
   "metadata": {},
   "outputs": [
    {
     "data": {
      "text/plain": [
       "relationship_satisfaction\n",
       "1    20.652174\n",
       "2    14.851485\n",
       "3    15.468410\n",
       "4    14.814815\n",
       "Name: count, dtype: float64"
      ]
     },
     "execution_count": 42,
     "metadata": {},
     "output_type": "execute_result"
    }
   ],
   "source": [
    "# Attrition rate by relationship satisfaction\n",
    "attrition_rate_rel_sat = (rel_sat_out / rel_sat)*100\n",
    "attrition_rate_rel_sat"
   ]
  },
  {
   "cell_type": "markdown",
   "metadata": {},
   "source": [
    "**Analysis**\n",
    "\n",
    "Employees with the lowest relationship satisfaction (rating 1) have the highest likelihood of leaving the company. This suggests that poor workplace relationships are a strong driver of employee turnover.However, a significant number of employees who left the company had higher satisfaction ratings (3 and 4). While these employees generally had a more positive view of their workplace relationships, it was not enough to prevent them from leaving."
   ]
  },
  {
   "cell_type": "markdown",
   "metadata": {},
   "source": [
    "### Roles and satisfaction\n",
    "\n",
    "On a scale of 1 to 4"
   ]
  },
  {
   "cell_type": "markdown",
   "metadata": {},
   "source": [
    "### Salary\n",
    "\n"
   ]
  },
  {
   "cell_type": "code",
   "execution_count": 43,
   "metadata": {},
   "outputs": [
    {
     "data": {
      "text/plain": [
       "count     1470.000000\n",
       "mean      6502.931293\n",
       "std       4707.956783\n",
       "min       1009.000000\n",
       "25%       2911.000000\n",
       "50%       4919.000000\n",
       "75%       8379.000000\n",
       "max      19999.000000\n",
       "Name: monthly_income, dtype: float64"
      ]
     },
     "execution_count": 43,
     "metadata": {},
     "output_type": "execute_result"
    }
   ],
   "source": [
    "# statistical info about monthly incomes\n",
    "\n",
    "df['monthly_income'].describe()"
   ]
  },
  {
   "cell_type": "code",
   "execution_count": 44,
   "metadata": {},
   "outputs": [
    {
     "data": {
      "image/png": "[encoded data removed]",
      "text/plain": [
       "<Figure size 1000x600 with 1 Axes>"
      ]
     },
     "metadata": {},
     "output_type": "display_data"
    }
   ],
   "source": [
    "# Comparison histogram of monthly salary\n",
    "plt.figure(figsize=(10, 6))\n",
    "\n",
    "# All employees\n",
    "plt.hist(in_company['monthly_income'], bins=30, alpha=0.2, label='All', color='skyblue', edgecolor='black')\n",
    "\n",
    "# Employees who left\n",
    "plt.hist(out['monthly_income'], bins=30, alpha=0.5, label='Out', color='salmon', edgecolor='black')\n",
    "\n",
    "plt.title('Frequency Distribution of monthly salary')\n",
    "plt.xlabel('Monthly Salary')\n",
    "plt.ylabel('Frequency')\n",
    "plt.legend()\n",
    "plt.grid(False)\n",
    "plt.show()"
   ]
  },
  {
   "cell_type": "markdown",
   "metadata": {},
   "source": [
    "We obersve a similar monthly income data distribution between all employees and employees who left"
   ]
  },
  {
   "cell_type": "code",
   "execution_count": 45,
   "metadata": {},
   "outputs": [
    {
     "data": {
      "text/plain": [
       "attrition\n",
       "No     6832.739659\n",
       "Yes    4787.092827\n",
       "Name: monthly_income, dtype: float64"
      ]
     },
     "execution_count": 45,
     "metadata": {},
     "output_type": "execute_result"
    }
   ],
   "source": [
    "# Mean of monthly income of employees who left and employees who stayed\n",
    "\n",
    "df.groupby('attrition')['monthly_income'].mean()"
   ]
  },
  {
   "cell_type": "markdown",
   "metadata": {},
   "source": [
    "Only with the monthly income mean of each group (employees who stayed and employees who left the company) we observe a considerable difference, being the mean monhtly income of employees who left moderately lower than the mean income of those who stayed. "
   ]
  },
  {
   "cell_type": "code",
   "execution_count": 46,
   "metadata": {},
   "outputs": [
    {
     "name": "stderr",
     "output_type": "stream",
     "text": [
      "/var/folders/4n/v650pxtn7pl7c5rczqqv7nhc0000gn/T/ipykernel_11072/3926614223.py:4: FutureWarning: \n",
      "\n",
      "Passing `palette` without assigning `hue` is deprecated and will be removed in v0.14.0. Assign the `x` variable to `hue` and set `legend=False` for the same effect.\n",
      "\n",
      "  sns.boxplot(x='attrition', y='monthly_income', data=df, palette='pastel' ,width=0.5)\n"
     ]
    },
    {
     "data": {
      "image/png": "[encoded data removed]",
      "text/plain": [
       "<Figure size 800x600 with 1 Axes>"
      ]
     },
     "metadata": {},
     "output_type": "display_data"
    }
   ],
   "source": [
    "#Boxplot\n",
    "\n",
    "plt.figure(figsize=(8, 6))\n",
    "sns.boxplot(x='attrition', y='monthly_income', data=df, palette='pastel' ,width=0.5)\n",
    "\n",
    "plt.title('Monthly Income by Attrition')\n",
    "plt.xlabel('Attrition')\n",
    "plt.ylabel('Monthly Income')\n",
    "plt.show()"
   ]
  },
  {
   "cell_type": "markdown",
   "metadata": {},
   "source": [
    "The boxplot reveals that employees who left the company have a lower and narrower range of monthly incomes compared to those who stayed. Additionally, the mean monthly income for employees who left is also lower."
   ]
  },
  {
   "cell_type": "code",
   "execution_count": 47,
   "metadata": {},
   "outputs": [
    {
     "data": {
      "text/plain": [
       "job_role\n",
       "Sales Representative          2626.000000\n",
       "Laboratory Technician         3237.169884\n",
       "Research Scientist            3239.972603\n",
       "Human Resources               4235.750000\n",
       "Sales Executive               6924.279141\n",
       "Manufacturing Director        7295.137931\n",
       "Healthcare Representative     7528.763359\n",
       "Research Director            16033.550000\n",
       "Manager                      17181.676471\n",
       "Name: monthly_income, dtype: float64"
      ]
     },
     "execution_count": 47,
     "metadata": {},
     "output_type": "execute_result"
    }
   ],
   "source": [
    "# Job roles grouped by mean monthly incomes\n",
    "\n",
    "income_roles = df.groupby('job_role')['monthly_income'].mean().sort_values()\n",
    "income_roles"
   ]
  },
  {
   "cell_type": "code",
   "execution_count": 48,
   "metadata": {},
   "outputs": [
    {
     "data": {
      "text/plain": [
       "job_role\n",
       "Sales Representative         39.759036\n",
       "Laboratory Technician        23.938224\n",
       "Human Resources              23.076923\n",
       "Sales Executive              17.484663\n",
       "Research Scientist           16.095890\n",
       "Manufacturing Director        6.896552\n",
       "Healthcare Representative     6.870229\n",
       "Manager                       4.901961\n",
       "Research Director             2.500000\n",
       "dtype: float64"
      ]
     },
     "execution_count": 48,
     "metadata": {},
     "output_type": "execute_result"
    }
   ],
   "source": [
    "# Attrition rate by job role (from previous job roles analysis)\n",
    "attrition_rate_role = (role_out / role_total)*100\n",
    "\n",
    "# Fill NA and sort\n",
    "attrition_rate_role = attrition_rate_role.fillna(0).sort_values(ascending=False)\n",
    "attrition_rate_role"
   ]
  },
  {
   "cell_type": "markdown",
   "metadata": {},
   "source": [
    "**Analysis**\n",
    "\n",
    "**Job roles and monthly salary**\n",
    "\n",
    "The job roles with lower mean salaries are the same job roles that experience higher attrition rates."
   ]
  },
  {
   "cell_type": "markdown",
   "metadata": {},
   "source": [
    "### Work-life balance"
   ]
  },
  {
   "cell_type": "code",
   "execution_count": 49,
   "metadata": {},
   "outputs": [
    {
     "data": {
      "text/plain": [
       "work_life_balance\n",
       "3    893\n",
       "2    344\n",
       "4    153\n",
       "1     80\n",
       "Name: count, dtype: int64"
      ]
     },
     "execution_count": 49,
     "metadata": {},
     "output_type": "execute_result"
    }
   ],
   "source": [
    "# Work-life balance - All employees\n",
    "balance = df['work_life_balance'].value_counts()\n",
    "balance"
   ]
  },
  {
   "cell_type": "code",
   "execution_count": 50,
   "metadata": {},
   "outputs": [
    {
     "data": {
      "text/plain": [
       "work_life_balance\n",
       "3    127\n",
       "2     58\n",
       "4     27\n",
       "1     25\n",
       "Name: count, dtype: int64"
      ]
     },
     "execution_count": 50,
     "metadata": {},
     "output_type": "execute_result"
    }
   ],
   "source": [
    "# Work-life balance - Employees who left\n",
    "\n",
    "balance_out = out['work_life_balance'].value_counts()\n",
    "balance_out"
   ]
  },
  {
   "cell_type": "code",
   "execution_count": 51,
   "metadata": {},
   "outputs": [
    {
     "data": {
      "text/plain": [
       "work_life_balance\n",
       "3    14.221725\n",
       "2    16.860465\n",
       "4    17.647059\n",
       "1    31.250000\n",
       "Name: count, dtype: float64"
      ]
     },
     "execution_count": 51,
     "metadata": {},
     "output_type": "execute_result"
    }
   ],
   "source": [
    "# Attrition rate by work-life balance\n",
    "attrition_rate_balance = (balance_out / balance)*100\n",
    "attrition_rate_balance.sort_values()"
   ]
  },
  {
   "cell_type": "markdown",
   "metadata": {},
   "source": [
    "**Analysis**\n",
    "\n",
    "The majority of employees rate their work-life balance as 3, indicating a moderate level of satisfaction. Fewer employees rate it as 4 (very satisfied), and even fewer rate it as 1 (very dissatisfied).\n",
    "\n",
    "Among employees who left the company, the most common ratings are 3 and 2, similar to the overall distribution.\n",
    "\n",
    "The attrition rate is highest for employees with the lowest work-life balance rating (1) at 31.25%. This indicates that employees who rate their work-life balance poorly are significantly more likely to leave the company. "
   ]
  },
  {
   "cell_type": "markdown",
   "metadata": {},
   "source": [
    "### Overtime"
   ]
  },
  {
   "cell_type": "code",
   "execution_count": 52,
   "metadata": {},
   "outputs": [
    {
     "data": {
      "text/plain": [
       "overtime\n",
       "No     1054\n",
       "Yes     416\n",
       "dtype: int64"
      ]
     },
     "execution_count": 52,
     "metadata": {},
     "output_type": "execute_result"
    }
   ],
   "source": [
    "# How many employees in total are doing overtime?\n",
    "\n",
    "overtime_total = df.groupby('overtime').size().sort_values(ascending=False)\n",
    "overtime_total"
   ]
  },
  {
   "cell_type": "code",
   "execution_count": 53,
   "metadata": {},
   "outputs": [
    {
     "name": "stdout",
     "output_type": "stream",
     "text": [
      "Percentage of employees who have done overtime: 28.30%\n"
     ]
    }
   ],
   "source": [
    "# Percentage of employees who have done overtime\n",
    "total_employees = len(df)\n",
    "\n",
    "# Number of employees who have done overtime\n",
    "overtime_employees = df['overtime'].value_counts()['Yes']\n",
    "\n",
    "# Percentage of employees who have done overtime\n",
    "overtime_percentage = (overtime_employees / total_employees) * 100\n",
    "\n",
    "# Result\n",
    "print(f\"Percentage of employees who have done overtime: {overtime_percentage:.2f}%\")"
   ]
  },
  {
   "cell_type": "code",
   "execution_count": 54,
   "metadata": {},
   "outputs": [
    {
     "data": {
      "text/plain": [
       "overtime\n",
       "Yes    127\n",
       "No     110\n",
       "dtype: int64"
      ]
     },
     "execution_count": 54,
     "metadata": {},
     "output_type": "execute_result"
    }
   ],
   "source": [
    "# Employees who left who did overtime\n",
    "\n",
    "overtime_out = out.groupby('overtime').size().sort_values(ascending=False)\n",
    "overtime_out"
   ]
  },
  {
   "cell_type": "code",
   "execution_count": 55,
   "metadata": {},
   "outputs": [
    {
     "data": {
      "text/plain": [
       "overtime\n",
       "No     10.436433\n",
       "Yes    30.528846\n",
       "dtype: float64"
      ]
     },
     "execution_count": 55,
     "metadata": {},
     "output_type": "execute_result"
    }
   ],
   "source": [
    "# Attrition rate by overtime\n",
    "attrition_rate_overtime = (overtime_out / overtime_total)*100\n",
    "attrition_rate_overtime"
   ]
  },
  {
   "cell_type": "markdown",
   "metadata": {},
   "source": [
    "Employees who have done overtime are more likely to leave the company than those who haven't done overtime"
   ]
  },
  {
   "cell_type": "code",
   "execution_count": 56,
   "metadata": {},
   "outputs": [
    {
     "name": "stdout",
     "output_type": "stream",
     "text": [
      "overtime\n",
      "No     1054\n",
      "Yes     416\n",
      "Name: count, dtype: int64\n",
      "overtime  attrition\n",
      "No        No           89.563567\n",
      "          Yes          10.436433\n",
      "Yes       No           69.471154\n",
      "          Yes          30.528846\n",
      "Name: proportion, dtype: float64\n"
     ]
    }
   ],
   "source": [
    "# Count the number of employees who have done overtime and those who haven't\n",
    "overtime_counts = df['overtime'].value_counts()\n",
    "\n",
    "# Calculate the attrition rate for each group\n",
    "attrition_overtime = df.groupby('overtime')['attrition'].value_counts(normalize=True) * 100\n",
    "\n",
    "print(overtime_counts)\n",
    "print(attrition_overtime)"
   ]
  },
  {
   "cell_type": "markdown",
   "metadata": {},
   "source": [
    "**Analysis**\n",
    "\n",
    "Employees who work overtime have a significantly higher attrition rate (30.5%) compared to those who don't. Working overtime might be a substantial factor contributing to employees leaving the company."
   ]
  },
  {
   "cell_type": "markdown",
   "metadata": {},
   "source": [
    "### Performance"
   ]
  },
  {
   "cell_type": "code",
   "execution_count": 57,
   "metadata": {},
   "outputs": [
    {
     "data": {
      "text/plain": [
       "performance_rating\n",
       "3    1244\n",
       "4     226\n",
       "Name: count, dtype: int64"
      ]
     },
     "execution_count": 57,
     "metadata": {},
     "output_type": "execute_result"
    }
   ],
   "source": [
    "# Performance - All employees\n",
    "performance_total = df['performance_rating'].value_counts()\n",
    "performance_total"
   ]
  },
  {
   "cell_type": "markdown",
   "metadata": {},
   "source": [
    "The majority of employees have a performance rating of 3, making it not meaningful to analyze."
   ]
  },
  {
   "cell_type": "markdown",
   "metadata": {},
   "source": [
    "### Gender"
   ]
  },
  {
   "cell_type": "code",
   "execution_count": 58,
   "metadata": {},
   "outputs": [
    {
     "data": {
      "text/plain": [
       "gender\n",
       "Male      882\n",
       "Female    588\n",
       "Name: count, dtype: int64"
      ]
     },
     "execution_count": 58,
     "metadata": {},
     "output_type": "execute_result"
    }
   ],
   "source": [
    "# Gender - All employees\n",
    "gender_total = df['gender'].value_counts()\n",
    "gender_total"
   ]
  },
  {
   "cell_type": "code",
   "execution_count": 59,
   "metadata": {},
   "outputs": [
    {
     "data": {
      "text/plain": [
       "gender\n",
       "Male      150\n",
       "Female     87\n",
       "Name: count, dtype: int64"
      ]
     },
     "execution_count": 59,
     "metadata": {},
     "output_type": "execute_result"
    }
   ],
   "source": [
    "# Gender - Employees who left\n",
    "gender_out = out['gender'].value_counts()\n",
    "gender_out"
   ]
  },
  {
   "cell_type": "code",
   "execution_count": 60,
   "metadata": {},
   "outputs": [
    {
     "data": {
      "text/plain": [
       "gender\n",
       "Male      17.006803\n",
       "Female    14.795918\n",
       "Name: count, dtype: float64"
      ]
     },
     "execution_count": 60,
     "metadata": {},
     "output_type": "execute_result"
    }
   ],
   "source": [
    "# Attrition rate by environment satisfaction\n",
    "attrition_gender = (gender_out / gender_total)*100\n",
    "attrition_gender"
   ]
  },
  {
   "cell_type": "markdown",
   "metadata": {},
   "source": [
    "Males employees are more likely to leave but the percentage of male employees is higher"
   ]
  },
  {
   "cell_type": "markdown",
   "metadata": {},
   "source": [
    "### Promotions"
   ]
  },
  {
   "cell_type": "code",
   "execution_count": 61,
   "metadata": {},
   "outputs": [
    {
     "data": {
      "text/plain": [
       "Index(['age', 'attrition', 'travel', 'dailyrate', 'department',\n",
       "       'distance_from_home', 'education', 'field', 'employee_count',\n",
       "       'employee_number', 'env_satisfaction', 'gender', 'hourly_rate',\n",
       "       'job_involvement', 'job_level', 'job_role', 'job_satisfaction',\n",
       "       'marital_status', 'monthly_income', 'monthly_rate',\n",
       "       'num_companies_worked', 'overtime', 'percent_salary_hike',\n",
       "       'performance_rating', 'relationship_satisfaction', 'standard_hours',\n",
       "       'stock_option_level', 'working_years', 'training_last_year',\n",
       "       'work_life_balance', 'years_at_company', 'years_in_current_role',\n",
       "       'years_since_promotion', 'years_with_current_manager'],\n",
       "      dtype='object')"
      ]
     },
     "execution_count": 61,
     "metadata": {},
     "output_type": "execute_result"
    }
   ],
   "source": [
    "df.columns"
   ]
  },
  {
   "cell_type": "code",
   "execution_count": 62,
   "metadata": {},
   "outputs": [
    {
     "data": {
      "text/plain": [
       "<bound method Series.sort_values of years_at_company\n",
       "5     196\n",
       "1     171\n",
       "3     128\n",
       "2     127\n",
       "10    120\n",
       "4     110\n",
       "7      90\n",
       "9      82\n",
       "8      80\n",
       "6      76\n",
       "0      44\n",
       "11     32\n",
       "20     27\n",
       "13     24\n",
       "15     20\n",
       "14     18\n",
       "22     15\n",
       "12     14\n",
       "21     14\n",
       "18     13\n",
       "16     12\n",
       "19     11\n",
       "17      9\n",
       "24      6\n",
       "33      5\n",
       "25      4\n",
       "26      4\n",
       "31      3\n",
       "32      3\n",
       "27      2\n",
       "36      2\n",
       "29      2\n",
       "23      2\n",
       "37      1\n",
       "40      1\n",
       "34      1\n",
       "30      1\n",
       "Name: count, dtype: int64>"
      ]
     },
     "execution_count": 62,
     "metadata": {},
     "output_type": "execute_result"
    }
   ],
   "source": [
    "# Years at company - All employees\n",
    "years_company_total = df['years_at_company'].value_counts()\n",
    "years_company_total.sort_values"
   ]
  },
  {
   "cell_type": "code",
   "execution_count": 63,
   "metadata": {},
   "outputs": [
    {
     "data": {
      "text/plain": [
       "<bound method Series.sort_values of years_at_company\n",
       "1     59\n",
       "2     27\n",
       "5     21\n",
       "3     20\n",
       "4     19\n",
       "10    18\n",
       "0     16\n",
       "7     11\n",
       "8      9\n",
       "6      9\n",
       "9      8\n",
       "14     2\n",
       "11     2\n",
       "13     2\n",
       "18     1\n",
       "15     1\n",
       "33     1\n",
       "19     1\n",
       "24     1\n",
       "21     1\n",
       "31     1\n",
       "20     1\n",
       "17     1\n",
       "32     1\n",
       "16     1\n",
       "40     1\n",
       "22     1\n",
       "23     1\n",
       "Name: count, dtype: int64>"
      ]
     },
     "execution_count": 63,
     "metadata": {},
     "output_type": "execute_result"
    }
   ],
   "source": [
    "# Years at company - Employees who left\n",
    "years_company_out = out['years_at_company'].value_counts()\n",
    "years_company_out.sort_values"
   ]
  },
  {
   "cell_type": "code",
   "execution_count": 64,
   "metadata": {},
   "outputs": [
    {
     "data": {
      "image/png": "[encoded data removed]",
      "text/plain": [
       "<Figure size 1000x600 with 1 Axes>"
      ]
     },
     "metadata": {},
     "output_type": "display_data"
    }
   ],
   "source": [
    "# Histogram\n",
    "plt.figure(figsize=(10, 6))\n",
    "\n",
    "# All employees\n",
    "plt.hist(in_company['years_at_company'], bins=30, alpha=0.2, label='All', color='skyblue', edgecolor='black')\n",
    "\n",
    "# Employees who left\n",
    "plt.hist(out['years_at_company'], bins=30, alpha=0.5, label='Out', color='salmon', edgecolor='black')\n",
    "\n",
    "plt.title('Frequency Distribution of Years at company')\n",
    "plt.xlabel('years in company')\n",
    "plt.ylabel('Frequency')\n",
    "plt.legend()\n",
    "plt.grid(False)\n",
    "plt.show()"
   ]
  },
  {
   "cell_type": "markdown",
   "metadata": {},
   "source": [
    "### Job involvement"
   ]
  },
  {
   "cell_type": "code",
   "execution_count": 65,
   "metadata": {},
   "outputs": [
    {
     "data": {
      "text/plain": [
       "job_involvement\n",
       "3    868\n",
       "2    375\n",
       "4    144\n",
       "1     83\n",
       "Name: count, dtype: int64"
      ]
     },
     "execution_count": 65,
     "metadata": {},
     "output_type": "execute_result"
    }
   ],
   "source": [
    "# Job involvement - All employees\n",
    "job_inv = df['job_involvement'].value_counts()\n",
    "job_inv"
   ]
  },
  {
   "cell_type": "code",
   "execution_count": 66,
   "metadata": {},
   "outputs": [
    {
     "data": {
      "text/plain": [
       "job_involvement\n",
       "3    125\n",
       "2     71\n",
       "1     28\n",
       "4     13\n",
       "Name: count, dtype: int64"
      ]
     },
     "execution_count": 66,
     "metadata": {},
     "output_type": "execute_result"
    }
   ],
   "source": [
    "# Job involvement - Employees who left\n",
    "job_inv_out = out['job_involvement'].value_counts()\n",
    "job_inv_out"
   ]
  },
  {
   "cell_type": "code",
   "execution_count": 67,
   "metadata": {},
   "outputs": [
    {
     "data": {
      "text/plain": [
       "job_involvement\n",
       "1    33.734940\n",
       "2    18.933333\n",
       "3    14.400922\n",
       "4     9.027778\n",
       "Name: count, dtype: float64"
      ]
     },
     "execution_count": 67,
     "metadata": {},
     "output_type": "execute_result"
    }
   ],
   "source": [
    "# Attrition rate by job involvement\n",
    "attrition_rate_inv = (job_inv_out / job_inv)*100\n",
    "attrition_rate_inv"
   ]
  },
  {
   "cell_type": "markdown",
   "metadata": {},
   "source": [
    "**Analysis**\n",
    "\n",
    "As expected, those who feel less involved with their jobs (ratings 1 and 2) are more likely to leave the company. "
   ]
  }
 ],
 "metadata": {
  "kernelspec": {
   "display_name": "Python 3",
   "language": "python",
   "name": "python3"
  },
  "language_info": {
   "codemirror_mode": {
    "name": "ipython",
    "version": 3
   },
   "file_extension": ".py",
   "mimetype": "text/x-python",
   "name": "python",
   "nbconvert_exporter": "python",
   "pygments_lexer": "ipython3",
   "version": "3.9.19"
  }
 },
 "nbformat": 4,
 "nbformat_minor": 2
}
